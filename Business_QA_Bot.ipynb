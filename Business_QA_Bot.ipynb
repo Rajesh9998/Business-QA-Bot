{
  "nbformat": 4,
  "nbformat_minor": 0,
  "metadata": {
    "colab": {
      "provenance": []
    },
    "kernelspec": {
      "name": "python3",
      "display_name": "Python 3"
    },
    "language_info": {
      "name": "python"
    }
  },
  "cells": [
    {
      "cell_type": "markdown",
      "source": [
        "# Utilizing RAG Framework for a Business-Focused QA Bot"
      ],
      "metadata": {
        "id": "0aXpQ4KhpzYu"
      }
    },
    {
      "cell_type": "markdown",
      "source": [
        "## Step 1 : Installing Dependencies\n",
        "\n",
        "---\n",
        "\n"
      ],
      "metadata": {
        "id": "GOacLWIWYbfH"
      }
    },
    {
      "cell_type": "code",
      "source": [
        "!pip install pyPDF2"
      ],
      "metadata": {
        "colab": {
          "base_uri": "https://localhost:8080/"
        },
        "id": "10t6MXQZidBN",
        "outputId": "3bc96eb7-a205-4d35-9c5a-62adad82f0b8"
      },
      "execution_count": null,
      "outputs": [
        {
          "output_type": "stream",
          "name": "stdout",
          "text": [
            "Collecting pyPDF2\n",
            "  Downloading pypdf2-3.0.1-py3-none-any.whl.metadata (6.8 kB)\n",
            "Downloading pypdf2-3.0.1-py3-none-any.whl (232 kB)\n",
            "\u001b[2K   \u001b[90m━━━━━━━━━━━━━━━━━━━━━━━━━━━━━━━━━━━━━━━━\u001b[0m \u001b[32m232.6/232.6 kB\u001b[0m \u001b[31m2.0 MB/s\u001b[0m eta \u001b[36m0:00:00\u001b[0m\n",
            "\u001b[?25hInstalling collected packages: pyPDF2\n",
            "Successfully installed pyPDF2-3.0.1\n"
          ]
        }
      ]
    },
    {
      "cell_type": "code",
      "execution_count": null,
      "metadata": {
        "colab": {
          "base_uri": "https://localhost:8080/"
        },
        "id": "xgpOwswQpqvT",
        "outputId": "4beae374-0a3c-4a6b-c02c-d6e2f7fa443f"
      },
      "outputs": [
        {
          "output_type": "stream",
          "name": "stdout",
          "text": [
            "Collecting groq\n",
            "  Downloading groq-0.9.0-py3-none-any.whl.metadata (13 kB)\n",
            "Requirement already satisfied: anyio<5,>=3.5.0 in /usr/local/lib/python3.10/dist-packages (from groq) (3.7.1)\n",
            "Requirement already satisfied: distro<2,>=1.7.0 in /usr/lib/python3/dist-packages (from groq) (1.7.0)\n",
            "Collecting httpx<1,>=0.23.0 (from groq)\n",
            "  Downloading httpx-0.27.0-py3-none-any.whl.metadata (7.2 kB)\n",
            "Requirement already satisfied: pydantic<3,>=1.9.0 in /usr/local/lib/python3.10/dist-packages (from groq) (2.8.2)\n",
            "Requirement already satisfied: sniffio in /usr/local/lib/python3.10/dist-packages (from groq) (1.3.1)\n",
            "Requirement already satisfied: typing-extensions<5,>=4.7 in /usr/local/lib/python3.10/dist-packages (from groq) (4.12.2)\n",
            "Requirement already satisfied: idna>=2.8 in /usr/local/lib/python3.10/dist-packages (from anyio<5,>=3.5.0->groq) (3.7)\n",
            "Requirement already satisfied: exceptiongroup in /usr/local/lib/python3.10/dist-packages (from anyio<5,>=3.5.0->groq) (1.2.2)\n",
            "Requirement already satisfied: certifi in /usr/local/lib/python3.10/dist-packages (from httpx<1,>=0.23.0->groq) (2024.7.4)\n",
            "Collecting httpcore==1.* (from httpx<1,>=0.23.0->groq)\n",
            "  Downloading httpcore-1.0.5-py3-none-any.whl.metadata (20 kB)\n",
            "Collecting h11<0.15,>=0.13 (from httpcore==1.*->httpx<1,>=0.23.0->groq)\n",
            "  Downloading h11-0.14.0-py3-none-any.whl.metadata (8.2 kB)\n",
            "Requirement already satisfied: annotated-types>=0.4.0 in /usr/local/lib/python3.10/dist-packages (from pydantic<3,>=1.9.0->groq) (0.7.0)\n",
            "Requirement already satisfied: pydantic-core==2.20.1 in /usr/local/lib/python3.10/dist-packages (from pydantic<3,>=1.9.0->groq) (2.20.1)\n",
            "Downloading groq-0.9.0-py3-none-any.whl (103 kB)\n",
            "\u001b[2K   \u001b[90m━━━━━━━━━━━━━━━━━━━━━━━━━━━━━━━━━━━━━━━━\u001b[0m \u001b[32m103.5/103.5 kB\u001b[0m \u001b[31m3.8 MB/s\u001b[0m eta \u001b[36m0:00:00\u001b[0m\n",
            "\u001b[?25hDownloading httpx-0.27.0-py3-none-any.whl (75 kB)\n",
            "\u001b[2K   \u001b[90m━━━━━━━━━━━━━━━━━━━━━━━━━━━━━━━━━━━━━━━━\u001b[0m \u001b[32m75.6/75.6 kB\u001b[0m \u001b[31m3.7 MB/s\u001b[0m eta \u001b[36m0:00:00\u001b[0m\n",
            "\u001b[?25hDownloading httpcore-1.0.5-py3-none-any.whl (77 kB)\n",
            "\u001b[2K   \u001b[90m━━━━━━━━━━━━━━━━━━━━━━━━━━━━━━━━━━━━━━━━\u001b[0m \u001b[32m77.9/77.9 kB\u001b[0m \u001b[31m3.4 MB/s\u001b[0m eta \u001b[36m0:00:00\u001b[0m\n",
            "\u001b[?25hDownloading h11-0.14.0-py3-none-any.whl (58 kB)\n",
            "\u001b[2K   \u001b[90m━━━━━━━━━━━━━━━━━━━━━━━━━━━━━━━━━━━━━━━━\u001b[0m \u001b[32m58.3/58.3 kB\u001b[0m \u001b[31m1.3 MB/s\u001b[0m eta \u001b[36m0:00:00\u001b[0m\n",
            "\u001b[?25hInstalling collected packages: h11, httpcore, httpx, groq\n",
            "Successfully installed groq-0.9.0 h11-0.14.0 httpcore-1.0.5 httpx-0.27.0\n",
            "Collecting pinecone-client\n",
            "  Downloading pinecone_client-5.0.1-py3-none-any.whl.metadata (19 kB)\n",
            "Requirement already satisfied: certifi>=2019.11.17 in /usr/local/lib/python3.10/dist-packages (from pinecone-client) (2024.7.4)\n",
            "Collecting pinecone-plugin-inference<2.0.0,>=1.0.3 (from pinecone-client)\n",
            "  Downloading pinecone_plugin_inference-1.0.3-py3-none-any.whl.metadata (2.2 kB)\n",
            "Collecting pinecone-plugin-interface<0.0.8,>=0.0.7 (from pinecone-client)\n",
            "  Downloading pinecone_plugin_interface-0.0.7-py3-none-any.whl.metadata (1.2 kB)\n",
            "Requirement already satisfied: tqdm>=4.64.1 in /usr/local/lib/python3.10/dist-packages (from pinecone-client) (4.66.5)\n",
            "Requirement already satisfied: typing-extensions>=3.7.4 in /usr/local/lib/python3.10/dist-packages (from pinecone-client) (4.12.2)\n",
            "Requirement already satisfied: urllib3>=1.26.0 in /usr/local/lib/python3.10/dist-packages (from pinecone-client) (2.0.7)\n",
            "Downloading pinecone_client-5.0.1-py3-none-any.whl (244 kB)\n",
            "\u001b[2K   \u001b[90m━━━━━━━━━━━━━━━━━━━━━━━━━━━━━━━━━━━━━━━━\u001b[0m \u001b[32m244.8/244.8 kB\u001b[0m \u001b[31m5.4 MB/s\u001b[0m eta \u001b[36m0:00:00\u001b[0m\n",
            "\u001b[?25hDownloading pinecone_plugin_inference-1.0.3-py3-none-any.whl (117 kB)\n",
            "\u001b[2K   \u001b[90m━━━━━━━━━━━━━━━━━━━━━━━━━━━━━━━━━━━━━━━━\u001b[0m \u001b[32m117.6/117.6 kB\u001b[0m \u001b[31m7.4 MB/s\u001b[0m eta \u001b[36m0:00:00\u001b[0m\n",
            "\u001b[?25hDownloading pinecone_plugin_interface-0.0.7-py3-none-any.whl (6.2 kB)\n",
            "Installing collected packages: pinecone-plugin-interface, pinecone-plugin-inference, pinecone-client\n",
            "Successfully installed pinecone-client-5.0.1 pinecone-plugin-inference-1.0.3 pinecone-plugin-interface-0.0.7\n"
          ]
        }
      ],
      "source": [
        "!pip install groq\n",
        "!pip install pinecone-client\n",
        "!pip install firecrawl-py\n",
        "!pip install google-generativeai"
      ]
    },
    {
      "cell_type": "markdown",
      "source": [
        "## Step 2 : Collecting Data from a Website to Supply as Knowledge to the Chatbot"
      ],
      "metadata": {
        "id": "Q8wCEX0GYui1"
      }
    },
    {
      "cell_type": "code",
      "source": [
        "from firecrawl import FirecrawlApp\n",
        "import getpass\n",
        "from google.colab import userdata\n",
        "\n",
        "# Access the environment variable using os.environ.get()\n",
        "app = FirecrawlApp(api_key=userdata.get(\"FIRECRAWL_API_KEY\") or getpass.getpass(\"Enter your Firecrawl API key: \"))\n",
        "\n",
        "crawl_result = app.crawl_url('https://openai.com/', {'crawlerOptions': {'excludes': ['blog/*']}})\n",
        "\n",
        "# Get the markdown\n",
        "#for result in crawl_result:\n",
        "#    print(result['markdown'])\n",
        "\n"
      ],
      "metadata": {
        "id": "Sm42zhMy6W01"
      },
      "execution_count": null,
      "outputs": []
    },
    {
      "cell_type": "code",
      "source": [
        "print('No.of URLs and sub URLs processed: ',len(crawl_result))\n",
        "print(crawl_result[2])"
      ],
      "metadata": {
        "colab": {
          "base_uri": "https://localhost:8080/"
        },
        "id": "3-ub_odvDZgd",
        "outputId": "1eb61d4a-6710-427d-f6d8-f95bd1d0db65"
      },
      "execution_count": null,
      "outputs": [
        {
          "output_type": "stream",
          "name": "stdout",
          "text": [
            "No.of URLs and sub URLs processed:  61\n",
            "{'content': '[Skip to main content](#main)\\n\\n[](/)\\n\\n*   Research\\n*   Products\\n*   Safety\\n*   Company\\n\\nChatGPT on your desktop\\n=======================\\n\\nChat about email, screenshots, files, and anything on your screen.\\n\\n[Download](https://persistent.oaistatic.com/sidekick/public/ChatGPT_Desktop_public_latest.dmg)\\n\\nAvailable now on macOS.\\\\*\\n\\n### Seamlessly integrates with how you work, write, and create\\n\\n###### Faster access to ChatGPT\\n\\nOption + Space opens ChatGPT from any screen on your desktop.\\n\\n![macapp launcher](https://images.ctfassets.net/kftzwdyauwt9/cGntK6W80RyEWtLMRkY7a/f19e63f01c934e1247f988739dd99d64/macapp_shortcut.png?w=3840&q=90&fm=webp)\\n\\nTake screenshotsUpload filesAsk anythingShare imagesSearch conversations\\n\\nTake screenshotsUpload filesAsk anythingShare imagesSearch conversations\\n\\nYour browser does not support the video tag.\\n\\nYour browser does not support the video tag.\\n\\nYour browser does not support the video tag.\\n\\nYour browser does not support the video tag.\\n\\nYour browser does not support the video tag.\\n\\n###### Speak with ChatGPT from your desktop\\n\\nStart a conversation. Practice a new language. Tap the headphone icon to begin.\\n\\n![macapp voice](https://images.ctfassets.net/kftzwdyauwt9/7bYtIvXHogYtqzWDorA7Xu/ae905b31ab80e8efad1b1893e286289a/macapp_voice.png?w=3840&q=90&fm=webp)\\n\\nDo more on your desktop with ChatGPT\\n------------------------------------\\n\\n[Download](https://persistent.oaistatic.com/sidekick/public/ChatGPT_Desktop_public_latest.dmg)\\n[Release Notes(opens in a new window)](https://help.openai.com/en/articles/9703738-desktop-app-release-notes)\\n\\n\\\\*The desktop app is only available for macOS 14+ with Apple Silicon (M1 or better). Coming to Windows later this year.\\n\\nOur research\\n\\n*   [Overview](/research/)\\n    \\n*   [Index](/news/research/)\\n    \\n\\nLatest advancements\\n\\n*   [GPT-4](/index/gpt-4/)\\n    \\n*   [GPT-4o mini](/index/gpt-4o-mini-advancing-cost-efficient-intelligence/)\\n    \\n*   [DALL·E 3](/index/dall-e-3/)\\n    \\n*   [Sora](/index/sora/)\\n    \\n\\nChatGPT\\n\\n*   [For Everyone](/chatgpt/)\\n    \\n*   [For Teams](/chatgpt/team/)\\n    \\n*   [For Enterprises](/chatgpt/enterprise/)\\n    \\n*   [ChatGPT login(opens in a new window)](https://chatgpt.com/)\\n    \\n*   [Download](/chatgpt/download/)\\n    \\n\\nAPI\\n\\n*   [Platform overview](/api/)\\n    \\n*   [Pricing](/api/pricing/)\\n    \\n*   [Documentation(opens in a new window)](https://platform.openai.com/docs/introduction)\\n    \\n*   [API login(opens in a new window)](https://platform.openai.com/login?launch)\\n    \\n\\nExplore more\\n\\n*   [OpenAI for business](/business/)\\n    \\n*   [Stories](/news/stories/)\\n    \\n\\nSafety overview\\n\\n*   [Safety overview](/safety/)\\n    \\n*   [Safety standards](/safety-standards/)\\n    \\n\\nTeams\\n\\n*   [Safety Systems](/safety-systems/)\\n    \\n*   [Preparedness](/preparedness/)\\n    \\n*   [Superalignment](/superalignment/)\\n    \\n\\nCompany\\n\\n*   [About us](/about/)\\n    \\n*   [News](/news/)\\n    \\n*   [Our Charter](/charter/)\\n    \\n*   [Security](/security-and-privacy/)\\n    \\n*   [Residency](/residency/)\\n    \\n*   [Careers](/careers/)\\n    \\n\\nTerms & policies\\n\\n*   [Terms of use](/policies/terms-of-use/)\\n    \\n*   [Privacy policy](/policies/privacy-policy/)\\n    \\n*   [Brand guidelines](/brand/)\\n    \\n*   [Other policies](/policies/)\\n    \\n\\nOpenAI © 2015–2024\\n\\n[(opens in a new window)](https://x.com/OpenAI)\\n[(opens in a new window)](https://www.youtube.com/OpenAI)\\n[(opens in a new window)](https://www.linkedin.com/company/openai)\\n[(opens in a new window)](https://github.com/openai)\\n[(opens in a new window)](https://www.instagram.com/openai/?hl=en)\\n[(opens in a new window)](https://www.tiktok.com/@openai?lang=en)\\n[(opens in a new window)](https://discord.gg/openai)', 'markdown': '[Skip to main content](#main)\\n\\n[](/)\\n\\n*   Research\\n*   Products\\n*   Safety\\n*   Company\\n\\nChatGPT on your desktop\\n=======================\\n\\nChat about email, screenshots, files, and anything on your screen.\\n\\n[Download](https://persistent.oaistatic.com/sidekick/public/ChatGPT_Desktop_public_latest.dmg)\\n\\nAvailable now on macOS.\\\\*\\n\\n### Seamlessly integrates with how you work, write, and create\\n\\n###### Faster access to ChatGPT\\n\\nOption + Space opens ChatGPT from any screen on your desktop.\\n\\n![macapp launcher](https://images.ctfassets.net/kftzwdyauwt9/cGntK6W80RyEWtLMRkY7a/f19e63f01c934e1247f988739dd99d64/macapp_shortcut.png?w=3840&q=90&fm=webp)\\n\\nTake screenshotsUpload filesAsk anythingShare imagesSearch conversations\\n\\nTake screenshotsUpload filesAsk anythingShare imagesSearch conversations\\n\\nYour browser does not support the video tag.\\n\\nYour browser does not support the video tag.\\n\\nYour browser does not support the video tag.\\n\\nYour browser does not support the video tag.\\n\\nYour browser does not support the video tag.\\n\\n###### Speak with ChatGPT from your desktop\\n\\nStart a conversation. Practice a new language. Tap the headphone icon to begin.\\n\\n![macapp voice](https://images.ctfassets.net/kftzwdyauwt9/7bYtIvXHogYtqzWDorA7Xu/ae905b31ab80e8efad1b1893e286289a/macapp_voice.png?w=3840&q=90&fm=webp)\\n\\nDo more on your desktop with ChatGPT\\n------------------------------------\\n\\n[Download](https://persistent.oaistatic.com/sidekick/public/ChatGPT_Desktop_public_latest.dmg)\\n[Release Notes(opens in a new window)](https://help.openai.com/en/articles/9703738-desktop-app-release-notes)\\n\\n\\\\*The desktop app is only available for macOS 14+ with Apple Silicon (M1 or better). Coming to Windows later this year.\\n\\nOur research\\n\\n*   [Overview](/research/)\\n    \\n*   [Index](/news/research/)\\n    \\n\\nLatest advancements\\n\\n*   [GPT-4](/index/gpt-4/)\\n    \\n*   [GPT-4o mini](/index/gpt-4o-mini-advancing-cost-efficient-intelligence/)\\n    \\n*   [DALL·E 3](/index/dall-e-3/)\\n    \\n*   [Sora](/index/sora/)\\n    \\n\\nChatGPT\\n\\n*   [For Everyone](/chatgpt/)\\n    \\n*   [For Teams](/chatgpt/team/)\\n    \\n*   [For Enterprises](/chatgpt/enterprise/)\\n    \\n*   [ChatGPT login(opens in a new window)](https://chatgpt.com/)\\n    \\n*   [Download](/chatgpt/download/)\\n    \\n\\nAPI\\n\\n*   [Platform overview](/api/)\\n    \\n*   [Pricing](/api/pricing/)\\n    \\n*   [Documentation(opens in a new window)](https://platform.openai.com/docs/introduction)\\n    \\n*   [API login(opens in a new window)](https://platform.openai.com/login?launch)\\n    \\n\\nExplore more\\n\\n*   [OpenAI for business](/business/)\\n    \\n*   [Stories](/news/stories/)\\n    \\n\\nSafety overview\\n\\n*   [Safety overview](/safety/)\\n    \\n*   [Safety standards](/safety-standards/)\\n    \\n\\nTeams\\n\\n*   [Safety Systems](/safety-systems/)\\n    \\n*   [Preparedness](/preparedness/)\\n    \\n*   [Superalignment](/superalignment/)\\n    \\n\\nCompany\\n\\n*   [About us](/about/)\\n    \\n*   [News](/news/)\\n    \\n*   [Our Charter](/charter/)\\n    \\n*   [Security](/security-and-privacy/)\\n    \\n*   [Residency](/residency/)\\n    \\n*   [Careers](/careers/)\\n    \\n\\nTerms & policies\\n\\n*   [Terms of use](/policies/terms-of-use/)\\n    \\n*   [Privacy policy](/policies/privacy-policy/)\\n    \\n*   [Brand guidelines](/brand/)\\n    \\n*   [Other policies](/policies/)\\n    \\n\\nOpenAI © 2015–2024\\n\\n[(opens in a new window)](https://x.com/OpenAI)\\n[(opens in a new window)](https://www.youtube.com/OpenAI)\\n[(opens in a new window)](https://www.linkedin.com/company/openai)\\n[(opens in a new window)](https://github.com/openai)\\n[(opens in a new window)](https://www.instagram.com/openai/?hl=en)\\n[(opens in a new window)](https://www.tiktok.com/@openai?lang=en)\\n[(opens in a new window)](https://discord.gg/openai)', 'metadata': {'title': 'ChatGPT on your desktop | OpenAI', 'robots': 'index, follow', 'ogImage': 'https://images.ctfassets.net/kftzwdyauwt9/2Ujwgwe28FIkIk4aaujS9m/567fd51a0d2b8acf13f07785224b5e42/Mac_App_Social_OpenGraph.png?w=1600&h=900&fit=fill', 'ogTitle': 'ChatGPT on desktop', 'ogLocale': 'en-US', 'sourceURL': 'https://openai.com/chatgpt/mac/', 'description': 'ChatGPT on your desktop. Chat about email, screenshots, files, and anything on your screen.', 'ogDescription': 'ChatGPT on your desktop. Chat about email, screenshots, files, and anything on your screen.', 'pageStatusCode': 200, 'ogLocaleAlternate': []}, 'linksOnPage': ['https://openai.com/', 'https://persistent.oaistatic.com/sidekick/public/ChatGPT_Desktop_public_latest.dmg', 'https://help.openai.com/en/articles/9703738-desktop-app-release-notes', 'https://openai.com/research/', 'https://openai.com/news/research/', 'https://openai.com/index/gpt-4/', 'https://openai.com/index/gpt-4o-mini-advancing-cost-efficient-intelligence/', 'https://openai.com/index/dall-e-3/', 'https://openai.com/index/sora/', 'https://openai.com/chatgpt/', 'https://openai.com/chatgpt/team/', 'https://openai.com/chatgpt/enterprise/', 'https://chatgpt.com/', 'https://openai.com/chatgpt/download/', 'https://openai.com/api/', 'https://openai.com/api/pricing/', 'https://platform.openai.com/docs/introduction', 'https://platform.openai.com/login?launch', 'https://openai.com/business/', 'https://openai.com/news/stories/', 'https://openai.com/safety/', 'https://openai.com/safety-standards/', 'https://openai.com/safety-systems/', 'https://openai.com/preparedness/', 'https://openai.com/superalignment/', 'https://openai.com/about/', 'https://openai.com/news/', 'https://openai.com/charter/', 'https://openai.com/security-and-privacy/', 'https://openai.com/residency/', 'https://openai.com/careers/', 'https://openai.com/policies/terms-of-use/', 'https://openai.com/policies/privacy-policy/', 'https://openai.com/brand/', 'https://openai.com/policies/', 'https://x.com/OpenAI', 'https://www.youtube.com/OpenAI', 'https://www.linkedin.com/company/openai', 'https://github.com/openai', 'https://www.instagram.com/openai/?hl=en', 'https://www.tiktok.com/@openai?lang=en', 'https://discord.gg/openai']}\n"
          ]
        }
      ]
    },
    {
      "cell_type": "markdown",
      "source": [
        "## Step 3 : Chuncking"
      ],
      "metadata": {
        "id": "a_FiKTmtZWCH"
      }
    },
    {
      "cell_type": "code",
      "source": [
        "from typing import List, Dict\n",
        "\n",
        "def chunk_text(crawl_results: List[Dict], chunk_size: int = 512) -> List[Dict]:\n",
        "    \"\"\"Chunks a given text into specified sizes.\"\"\"\n",
        "    # Extract the content from the crawl results\n",
        "    text = \" \".join([result.get('content', '') for result in crawl_results])\n",
        "\n",
        "    words = text.split()\n",
        "    chunks = []\n",
        "    for i in range(0, len(words), chunk_size):\n",
        "        chunks.append({\n",
        "            \"id\": f\"chunk-{i // chunk_size}\",\n",
        "            \"content\": \" \".join(words[i:i + chunk_size])\n",
        "        })\n",
        "    return chunks\n",
        "\n",
        "\n",
        "data = chunk_text(crawl_result) # Pass the list of results directly\n",
        "print(data[2])\n",
        "print('Total no.of chunks the crawl_result is  divided into :',len(data))"
      ],
      "metadata": {
        "colab": {
          "base_uri": "https://localhost:8080/"
        },
        "id": "m3vCSpbTsZQ9",
        "outputId": "60bfb50b-57df-4b10-a86e-347e3feca55f"
      },
      "execution_count": null,
      "outputs": [
        {
          "output_type": "stream",
          "name": "stdout",
          "text": [
            "{'id': 'chunk-2', 'content': 'in ChatGPT\\\\ \\\\ ![ChatGPT Charts Blog Hero](https://images.ctfassets.net/kftzwdyauwt9/3vjzQxExAEnYGvBSiwT1zK/d76028c004dbc7e9830e541cced6224f/ChatGPT_Charts_Blog_Hero.png?w=3840&q=90&fm=webp)](/index/improvements-to-data-analysis-in-chatgpt/) [News\\\\ \\\\ ChatGPT can now see, hear, and speak\\\\ \\\\ Your browser does not support the video tag.](/index/chatgpt-can-now-see-hear-and-speak/) [News\\\\ \\\\ ChatGPT can now see, hear, and speak\\\\ \\\\ Your browser does not support the video tag.](/index/chatgpt-can-now-see-hear-and-speak/) [News\\\\ \\\\ News\\\\ \\\\ News\\\\ \\\\ Introducing the GPT Store\\\\ \\\\ Introducing the GPT Store\\\\ \\\\ Introducing the GPT Store\\\\ \\\\ ![introducing the gpt store](https://images.ctfassets.net/kftzwdyauwt9/3oQ0LwB3yg3R5isshaaJKi/bf1e997adf17012fceea0feb29d35bf4/introducing_the_gpt_store.jpg?w=3840&q=90&fm=webp)](/index/introducing-the-gpt-store/) [News\\\\ \\\\ News\\\\ \\\\ News\\\\ \\\\ Introducing the GPT Store\\\\ \\\\ Introducing the GPT Store\\\\ \\\\ Introducing the GPT Store\\\\ \\\\ ![introducing the gpt store](https://images.ctfassets.net/kftzwdyauwt9/3oQ0LwB3yg3R5isshaaJKi/bf1e997adf17012fceea0feb29d35bf4/introducing_the_gpt_store.jpg?w=3840&q=90&fm=webp)](/index/introducing-the-gpt-store/) [Research](/research/) ----------------------- [Safety & Alignment\\\\ \\\\ Aug 8, 2024\\\\ \\\\ GPT-4o System Card\\\\ \\\\ ![GPT-4o System Card > Cover Image](https://images.ctfassets.net/kftzwdyauwt9/X6C9WdheadoN2CrEsCfEZ/6502225118173e6f7008543b37e413e1/OAI_Systems_Blog_Card.png?w=3840&q=90&fm=webp)](/index/gpt-4o-system-card/) [Safety & Alignment\\\\ \\\\ Aug 8, 2024\\\\ \\\\ GPT-4o System Card\\\\ \\\\ ![GPT-4o System Card > Cover Image](https://images.ctfassets.net/kftzwdyauwt9/X6C9WdheadoN2CrEsCfEZ/6502225118173e6f7008543b37e413e1/OAI_Systems_Blog_Card.png?w=3840&q=90&fm=webp)](/index/gpt-4o-system-card/) [Research\\\\ \\\\ Jul 18, 2024\\\\ \\\\ GPT-4o mini: advancing cost-efficient intelligence\\\\ \\\\ ![Introducing ChatGPT4o-Mini > Cover Image](https://images.ctfassets.net/kftzwdyauwt9/3vA8jsIso6CRsO8296SxLi/f120c0f762cfa4614ff87de2ade85e0e/gpt-4o-mini_card_image-updated.png?w=3840&q=90&fm=webp)](/index/gpt-4o-mini-advancing-cost-efficient-intelligence/) [Research\\\\ \\\\ Jul 18, 2024\\\\ \\\\ GPT-4o mini: advancing cost-efficient intelligence\\\\ \\\\ ![Introducing ChatGPT4o-Mini > Cover Image](https://images.ctfassets.net/kftzwdyauwt9/3vA8jsIso6CRsO8296SxLi/f120c0f762cfa4614ff87de2ade85e0e/gpt-4o-mini_card_image-updated.png?w=3840&q=90&fm=webp)](/index/gpt-4o-mini-advancing-cost-efficient-intelligence/) [Research\\\\ \\\\ Jul 24, 2024\\\\ \\\\ Research\\\\ \\\\ Jul 24, 2024\\\\ \\\\ Research\\\\ \\\\ Jul 24, 2024\\\\ \\\\ Improving Model Safety Behavior with Rule-Based Rewards\\\\ \\\\ Improving Model Safety Behavior with Rule-Based Rewards\\\\ \\\\ Improving Model Safety Behavior with Rule-Based Rewards\\\\ \\\\ ![Aligning Model Safety Behavior with Rule-Based Rewards > Hero > Media > Asset](https://images.ctfassets.net/kftzwdyauwt9/6Viz8iK1yGb6sLmiAGSI7T/49da64d0369f457d3c022c0a0b17ba71/DALL_E_2024-04-06_16.58_4.png?w=3840&q=90&fm=webp)](/index/improving-model-safety-behavior-with-rule-based-rewards/) [Research\\\\ \\\\ Jul 24, 2024\\\\ \\\\ Research\\\\ \\\\ Jul 24, 2024\\\\ \\\\ Research\\\\ \\\\ Jul 24, 2024\\\\ \\\\ Improving Model Safety Behavior with Rule-Based Rewards\\\\ \\\\ Improving Model Safety Behavior with Rule-Based Rewards\\\\ \\\\ Improving Model Safety Behavior with Rule-Based Rewards\\\\ \\\\ ![Aligning Model Safety Behavior with Rule-Based Rewards > Hero > Media > Asset](https://images.ctfassets.net/kftzwdyauwt9/6Viz8iK1yGb6sLmiAGSI7T/49da64d0369f457d3c022c0a0b17ba71/DALL_E_2024-04-06_16.58_4.png?w=3840&q=90&fm=webp)](/index/improving-model-safety-behavior-with-rule-based-rewards/) [Research\\\\ \\\\ Jul 17, 2024\\\\ \\\\ Prover-Verifier Games improve legibility of language model outputs\\\\ \\\\ ![Games Improve Legibility > Card](https://images.ctfassets.net/kftzwdyauwt9/6NQjnJSOqEbjpPOrdaQD8z/d6f19d55e190ccf81e5d5db513425cf3/legibility_blog_card.png?w=3840&q=90&fm=webp)](/index/prover-verifier-games-improve-legibility/) [Research\\\\ \\\\ Jul 17, 2024\\\\ \\\\ Prover-Verifier Games improve legibility of language model outputs\\\\ \\\\ ![Games Improve Legibility > Card](https://images.ctfassets.net/kftzwdyauwt9/6NQjnJSOqEbjpPOrdaQD8z/d6f19d55e190ccf81e5d5db513425cf3/legibility_blog_card.png?w=3840&q=90&fm=webp)](/index/prover-verifier-games-improve-legibility/) [GPT-4o\\\\ \\\\ May 13, 2024\\\\ \\\\ GPT-4o\\\\ \\\\ May 13, 2024\\\\ \\\\ GPT-4o\\\\ \\\\ May 13, 2024\\\\ \\\\ Hello GPT-4o\\\\ \\\\ Hello GPT-4o\\\\ \\\\ Hello GPT-4o\\\\ \\\\ ![Spring Update](https://images.ctfassets.net/kftzwdyauwt9/51cvGC9YL1Fy2Iflb3KkDb/a8a9db1572e0bb7009f09a9b39aeafe9/GPT-4o-Video_Card.png?w=3840&q=90&fm=webp)](/index/hello-gpt-4o/) [GPT-4o\\\\ \\\\ May 13, 2024\\\\ \\\\ GPT-4o\\\\ \\\\ May 13, 2024\\\\ \\\\ GPT-4o\\\\ \\\\ May 13, 2024\\\\ \\\\ Hello GPT-4o\\\\ \\\\ Hello GPT-4o\\\\ \\\\ Hello GPT-4o\\\\ \\\\ ![Spring Update](https://images.ctfassets.net/kftzwdyauwt9/51cvGC9YL1Fy2Iflb3KkDb/a8a9db1572e0bb7009f09a9b39aeafe9/GPT-4o-Video_Card.png?w=3840&q=90&fm=webp)](/index/hello-gpt-4o/) [Sora\\\\ \\\\ Sora\\\\ \\\\ Sora\\\\ \\\\ Video generation models as world simulators\\\\ \\\\ Video generation models as world simulators\\\\ \\\\ Video generation models as world simulators\\\\ \\\\ Your browser does not support the video tag.](/index/sora/) [Sora\\\\ \\\\ Sora\\\\ \\\\ Sora\\\\ \\\\ Video generation models as world simulators\\\\ \\\\ Video generation models as world simulators\\\\ \\\\ Video generation models as world simulators\\\\ \\\\ Your browser does not support the video tag.](/index/sora/) [Safety & Alignment\\\\ \\\\ Safety & Alignment\\\\ \\\\ Safety & Alignment\\\\ \\\\ Building an early warning system for LLM-aided biological threat creation\\\\ \\\\ Building an early warning system for LLM-aided biological threat creation\\\\ \\\\ Building an early warning system for LLM-aided biological threat creation\\\\ \\\\ ![Home > Card Carousel > Research Card > Safety & Alignment > Media Item](https://images.ctfassets.net/kftzwdyauwt9/5zFIncfIW0tcpLLslTVZyr/021f3e3a8cf7d5e6ff78600f304a2b70/Building-an-early-warning-system-for-LLM-aided-biological-threat-creation.jpg?w=3840&q=90&fm=webp)](/index/building-an-early-warning-system-for-llm-aided-biological-threat-creation/) [Safety & Alignment\\\\ \\\\ Safety & Alignment\\\\ \\\\ Safety &'}\n",
            "Total no.of chunks the crawl_result is  divided into : 203\n"
          ]
        }
      ]
    },
    {
      "cell_type": "markdown",
      "source": [
        "## Step 4 : Creating a Pinecone Vector Database"
      ],
      "metadata": {
        "id": "TJNW9UYyZiEx"
      }
    },
    {
      "cell_type": "code",
      "source": [
        "from pinecone import ServerlessSpec\n",
        "from pinecone import Pinecone\n",
        "import getpass\n",
        "from google.colab import userdata\n",
        "\n",
        "\n",
        "\n",
        "\n",
        "pc = Pinecone(api_key=userdata.get(\"PINECONE_API_KEY\") or getpass.getpass(\"Enter your Pinecone API key: \"))\n",
        "\n",
        "index_name = \"qa-rag\" #qa-rag is the Pinecone Index Name\n",
        "\n",
        "\n",
        "existing_indexes = [\n",
        "    index_info[\"name\"] for index_info in pc.list_indexes()\n",
        "]\n",
        "\n",
        "# check if index already exists (it shouldn't if this is first time)\n",
        "if index_name not in existing_indexes:\n",
        "    # if does not exist, create index\n",
        "    pc.create_index(\n",
        "        index_name,\n",
        "        dimension=768,\n",
        "        metric='cosine',\n",
        "        spec=ServerlessSpec(\n",
        "    cloud=\"aws\",\n",
        "    region=\"us-east-1\"\n",
        "  )\n",
        "\n",
        "    )\n",
        "    # wait for index to be initialized\n",
        "    while not pc.describe_index(index_name).status['ready']:\n",
        "        time.sleep(1)\n",
        "\n",
        "# connect to index\n",
        "index = pc.Index(index_name)\n",
        "time.sleep(1)\n",
        "# view index stats\n",
        "index.describe_index_stats()"
      ],
      "metadata": {
        "colab": {
          "base_uri": "https://localhost:8080/"
        },
        "id": "qnJtzQFrBxZm",
        "outputId": "09618e65-d695-4510-ef06-3d94e577997a"
      },
      "execution_count": null,
      "outputs": [
        {
          "output_type": "execute_result",
          "data": {
            "text/plain": [
              "{'dimension': 768,\n",
              " 'index_fullness': 0.0,\n",
              " 'namespaces': {},\n",
              " 'total_vector_count': 0}"
            ]
          },
          "metadata": {},
          "execution_count": 46
        }
      ]
    },
    {
      "cell_type": "markdown",
      "source": [
        "## Step 5: Generate Embeddings for Vector Storage"
      ],
      "metadata": {
        "id": "kflcbBUqGMOI"
      }
    },
    {
      "cell_type": "code",
      "source": [
        "import os\n",
        "import getpass\n",
        "import google.generativeai as genai\n",
        "from google.colab import userdata\n",
        "\n",
        "GEMINI_API_KEY =userdata.get(\"GEMINI_API_KEY\")  or getpass.getpass(\"Enter your Gemini API key: \")\n",
        "genai.configure(api_key=GEMINI_API_KEY)\n",
        "\n",
        "def generate_embeddings(texts: List[str]) -> List[List[float]]:\n",
        "    \"\"\"Generates embeddings for a list of text chunks using Gemini.\"\"\"\n",
        "    embeddings = []\n",
        "    for text in texts:\n",
        "        result = genai.embed_content(\n",
        "            model=\"models/text-embedding-004\",  # Choose an appropriate embedding model\n",
        "            content=text,\n",
        "            task_type=\"retrieval_document\",\n",
        "            title=\"PDF Chunk Embedding\"\n",
        "        )\n",
        "        embeddings.append(result['embedding'])\n",
        "    return embeddings\n",
        "\n",
        "# Example usage\n",
        "embeddings = generate_embeddings([chunk[\"content\"] for chunk in data])\n",
        "print(embeddings[0][:10])  # Print the first 10 dimensions of the first embedding\n",
        "print(len(embeddings))\n",
        "#print(embeddings)"
      ],
      "metadata": {
        "colab": {
          "base_uri": "https://localhost:8080/",
          "height": 69
        },
        "id": "x4NvAFSnFqOO",
        "outputId": "4d850b7f-9565-4ce9-8cb1-42b5ac146c9c"
      },
      "execution_count": null,
      "outputs": [
        {
          "output_type": "stream",
          "name": "stdout",
          "text": [
            "Enter your Gemini API key: ··········\n",
            "[0.011746227, 0.01827689, -0.012091766, 0.002370531, 0.09047623, 0.03713244, 0.06310191, -0.017052429, 0.03160209, 0.019957732]\n",
            "203\n"
          ]
        }
      ]
    },
    {
      "cell_type": "markdown",
      "source": [
        "## Step 6: Storing Embeddings into Pinecone Vector Database"
      ],
      "metadata": {
        "id": "n3JdFZCgGsTS"
      }
    },
    {
      "cell_type": "code",
      "source": [
        "from pinecone import Pinecone, ServerlessSpec\n",
        "import time\n",
        "from google.colab import userdata\n",
        "\n",
        "api_key = userdata.get(\"PINECONE_API_KEY\") or getpass.getpass(\"Enter your Pinecone API key: \")\n",
        "pc = Pinecone(api_key=api_key)\n",
        "\n",
        "index_name = \"qa-rag\"  # Choose a name for your index\n",
        "dims = len(embeddings[0])  # Get the dimensionality from Gemini embeddings\n",
        "\n",
        "spec = ServerlessSpec(cloud=\"aws\", region=\"us-west-1\")\n",
        "\n",
        "if index_name not in [info['name'] for info in pc.list_indexes()]:\n",
        "    # Use the correct dimensionality when creating the index\n",
        "    pc.create_index(index_name, dimension=dims, metric='cosine', spec=spec)  # Set dimension to dims\n",
        "    while not pc.describe_index(index_name).status['ready']:\n",
        "        time.sleep(1)\n",
        "\n",
        "index = pc.Index(index_name)\n",
        "time.sleep(1)\n",
        "\n",
        "# Upsert Embeddings to Pinecone\n",
        "batch_size = 32\n",
        "for i in range(0, len(data), batch_size):\n",
        "    i_end = min(len(data), i + batch_size)\n",
        "    batch_data = data[i:i_end]\n",
        "    batch_embeddings = embeddings[i:i_end]\n",
        "    to_upsert = [(chunk[\"id\"], embedding, {\"content\": chunk[\"content\"]})\n",
        "                  for chunk, embedding in zip(batch_data, batch_embeddings)]\n",
        "    index.upsert(vectors=to_upsert)"
      ],
      "metadata": {
        "id": "njxlI0JWGi2Q"
      },
      "execution_count": null,
      "outputs": []
    },
    {
      "cell_type": "markdown",
      "source": [
        "## Step 7: Retrieving Data From Pinecone"
      ],
      "metadata": {
        "id": "RG3-PiwUG1zE"
      }
    },
    {
      "cell_type": "code",
      "source": [
        "from typing import List\n",
        "\n",
        "def get_docs(query: str, top_k: int = 30) -> List[str]:  # 30 indicates top 30 matched Results\n",
        "    \"\"\"Retrieves relevant documents from Pinecone.\"\"\"\n",
        "    query_embedding = generate_embeddings([query])[0]  # Generate embedding for the query\n",
        "    results = index.query(vector=query_embedding, top_k=top_k, include_metadata=True)\n",
        "    return [x[\"metadata\"][\"content\"] for x in results[\"matches\"]]\n",
        "\n",
        "def generate_embeddings(texts: List[str]) -> List[List[float]]:\n",
        "    \"\"\"Generates embeddings for a list of text chunks using Gemini.\"\"\"\n",
        "    embeddings = []\n",
        "    for text in texts:\n",
        "        result = genai.embed_content(\n",
        "            model=\"models/text-embedding-004\",  # Choose an appropriate embedding model\n",
        "            content=text,\n",
        "            task_type=\"retrieval_document\",\n",
        "            title=\"PDF Chunk Embedding\"\n",
        "        )\n",
        "        embeddings.append(result['embedding'])\n",
        "    return embeddings\n",
        "\n",
        "user_query = input('Enter Your Query :\\n ')\n",
        "retrieved_docs = get_docs(user_query)\n",
        "print(retrieved_docs)\n",
        "print(len(retrieved_docs))"
      ],
      "metadata": {
        "colab": {
          "base_uri": "https://localhost:8080/",
          "height": 106
        },
        "id": "V78jTdJOG1bH",
        "outputId": "6c48a765-214d-435c-ae36-c709841ff991"
      },
      "execution_count": null,
      "outputs": [
        {
          "output_type": "stream",
          "name": "stdout",
          "text": [
            "Enter Your Query :\n",
            " what is openai\n",
            "['and reporting vulnerabilities. Our research * [Overview](/research/) * [Index](/news/research/) Latest advancements * [GPT-4](/index/gpt-4/) * [GPT-4o mini](/index/gpt-4o-mini-advancing-cost-efficient-intelligence/) * [DALL·E 3](/index/dall-e-3/) * [Sora](/index/sora/) ChatGPT * [For Everyone](/chatgpt/) * [For Teams](/chatgpt/team/) * [For Enterprises](/chatgpt/enterprise/) * [ChatGPT login(opens in a new window)](https://chatgpt.com/) * [Download](/chatgpt/download/) API * [Platform overview](/api/) * [Pricing](/api/pricing/) * [Documentation(opens in a new window)](https://platform.openai.com/docs/introduction) * [API login(opens in a new window)](https://platform.openai.com/login?launch) Explore more * [OpenAI for business](/business/) * [Stories](/news/stories/) Safety overview * [Safety overview](/safety/) * [Safety standards](/safety-standards/) Teams * [Safety Systems](/safety-systems/) * [Preparedness](/preparedness/) * [Superalignment](/superalignment/) Company * [About us](/about/) * [News](/news/) * [Our Charter](/charter/) * [Security](/security-and-privacy/) * [Residency](/residency/) * [Careers](/careers/) Terms & policies * [Terms of use](/policies/terms-of-use/) * [Privacy policy](/policies/privacy-policy/) * [Brand guidelines](/brand/) * [Other policies](/policies/) OpenAI © 2015–2024 [(opens in a new window)](https://x.com/OpenAI) [(opens in a new window)](https://www.youtube.com/OpenAI) [(opens in a new window)](https://www.linkedin.com/company/openai) [(opens in a new window)](https://github.com/openai) [(opens in a new window)](https://www.instagram.com/openai/?hl=en) [(opens in a new window)](https://www.tiktok.com/@openai?lang=en) [(opens in a new window)](https://discord.gg/openai)', \"to the extent this restriction is prohibited by applicable law). * Automatically or programmatically extract data or Output (defined below). * Represent that Output was human-generated when it was not. * Interfere with or disrupt our Services, including circumvent any rate limits or restrictions or bypass any protective measures or safety mitigations we put on our Services. * Use Output to develop models that compete with OpenAI. **Software.** Our Services may allow you to download software, such as mobile applications, which may update automatically to ensure you’re using the latest version. Our software may include open source software that is governed by its own licenses that we’ve made available to you. **Corporate domains.** If you create an account using an email address owned by an organization (for example, your employer), that account may be added to the organization's business account with us, in which case we will provide notice to you so that you can help facilitate the transfer of your account (unless your organization has already provided notice to you that it may monitor and control your account). Once your account is transferred, the organization’s administrator will be able to control your account, including being able to access Content (defined below) and restrict or remove your access to the account. **Third party Services.** Our services may include third party software, products, or services, (“Third Party Services”) and some parts of our Services, like our browse feature, may include output from those services (“Third Party Output”). Third Party Services and Third Party Output are subject to their own terms, and we are not responsible for them. **Feedback.** We appreciate your feedback, and you agree that we may use it without restriction or compensation to you. Content ------- **Your content.** You may provide input to the Services (“Input”), and receive output from the Services based on the Input (“Output”). Input and Output are collectively “Content.” You are responsible for Content, including ensuring that it does not violate any applicable law or these Terms. You represent and warrant that you have all rights, licenses, and permissions needed to provide Input to our Services. **Ownership of content.** As between you and OpenAI, and to the extent permitted by applicable law, you (a) retain your ownership rights in Input and (b) own the Output. We hereby assign to you all our right, title, and interest, if any, in and to Output. **Similarity of content.** Due to the nature of our Services and artificial intelligence generally, output may not be unique and other users may receive similar output from our Services. Our assignment above does not extend to other users’ output or any Third Party Output. **Our use of content.** We may use Content to provide, maintain, develop, and improve our Services, comply with applicable law, enforce our terms and policies, and keep our Services safe. **Opt out.** If you do not want us to use your Content to train our models, you can opt out by following the instructions in [this Help Center article(opens in a new window)](https://help.openai.com/en/articles/5722486-how-your-data-is-used-to-improve-model-performance) . Please note that in some cases this\", 'window)](https://github.com/openai) [(opens in a new window)](https://www.instagram.com/openai/?hl=en) [(opens in a new window)](https://www.tiktok.com/@openai?lang=en) [(opens in a new window)](https://discord.gg/openai) [Skip to main content](#main) [](/) * Research * Products * Safety * Company English (US)English (UK)DanishGermanSpanish (Spain)Spanish (US)French (Canada)French (France)HungarianItalianJapaneseKoreanDutchPolishPortuguese (Brazil)Portuguese (Portugal)Swedish Updated: November 14, 2023 Privacy policy ============== **Effective: January 31, 2024** _We’ve updated our Privacy Policy below. These updates do not apply to individuals located in the European Economic Area, UK, and Switzerland._ _If you reside in those areas,_ [_this version_](/policies/eu-privacy-policy/) _of our Privacy Policy applies to you._ We at OpenAI OpCo, LLC (together with our affiliates, “OpenAI”, “we”, “our” or “us”) respect your privacy and are strongly committed to keeping secure any information we obtain from you or about you. This Privacy Policy describes our practices with respect to Personal Information we collect from or about you when you use our website, applications, and services (collectively, “Services”). This Privacy Policy does not apply to content that we process on behalf of customers of our business offerings, such as our API. Our use of that data is governed by our customer agreements covering access to and use of those offerings. For information about how we collect and use training information to develop our language models that power ChatGPT and other Services, and your choices with respect to that information, please see [this help center article(opens in a new window)](https://help.openai.com/en/articles/7842364-how-chatgpt-and-our-language-models-are-developed) . 1\\\\. Personal information we collect ----------------------------------- We collect personal information relating to you (“Personal Information”) as follows: **Personal information you provide**: We collect Personal Information if you create an account to use our Services or communicate with us as follows: * _Account Information:_ When you create an account with us, we will collect information associated with your account, including your name, contact information, account credentials, payment card information, and transaction history, (collectively, “Account Information”). * _User Content:_ When you use our Services, we collect Personal Information that is included in the input, file uploads, or feedback that you provide to our Services (“Content”). * _Communication Information_: If you communicate with us, we collect your name, contact information, and the contents of any messages you send (“Communication Information”). * _Social Media Information_: We have pages on social media sites like Instagram, Facebook, Medium, Twitter, YouTube and LinkedIn. When you interact with our social media pages, we will collect Personal Information that you elect to provide to us, such as your contact details (collectively, “Social Information”). In addition, the companies that host our social media pages may provide us with aggregate information and analytics about our social media activity. * _Other Information You Provide_: We collect other information that you may provide to us, such as when you participate in our events or surveys or provide us with information to establish your identity (collectively, “Other Information You Provide” **Personal information we receive automatically from your use of the Services**: When you visit, use, or interact with the Services, we receive the following information about your visit, use, or interactions (“Technical Information”): * _Log Data_: Information that your browser or device automatically sends when you use our', 'not knowingly collect Personal Information from children under the age of 13. If you have reason to believe that a child under the age of 13 has provided Personal Information to OpenAI through the Service, please email us at [legal@openai.com](mailto:legal@openai.com) . We will investigate any notification and if appropriate, delete the Personal Information from our systems. If you are 13 or older, but under 18, you must have permission from your parent or guardian to use our Services. 7\\\\. Links to other websites --------------------------- The Service may contain links to other websites not operated or controlled by OpenAI, including social media services (“Third Party Sites”). The information that you share with Third Party Sites will be governed by the specific privacy policies and terms of service of the Third Party Sites and not by this Privacy Policy. By providing these links we do not imply that we endorse or have reviewed these sites. Please contact the Third Party Sites directly for information on their privacy practices and policies. 8\\\\. Security and retention -------------------------- We implement commercially reasonable technical, administrative, and organizational measures to protect Personal Information both online and offline from loss, misuse, and unauthorized access, disclosure, alteration, or destruction. However, no Internet or email transmission is ever fully secure or error free. In particular, email sent to or from us may not be secure. Therefore, you should take special care in deciding what information you send to us via the Service or email. In addition, we are not responsible for circumvention of any privacy settings or security measures contained on the Service, or third-party websites. We’ll retain your Personal Information for only as long as we need in order to provide our Service to you, or for other legitimate business purposes such as resolving disputes, safety and security reasons, or complying with our legal obligations. How long we retain Personal Information will depend on a number of factors, such as the amount, nature, and sensitivity of the information, the potential risk of harm from unauthorized use or disclosure, our purpose for processing the information, and any legal requirements. 9\\\\. International users ----------------------- By using our Service, you understand and acknowledge that your Personal Information will be processed and stored in our facilities and servers in the United States and may be disclosed to our service providers and affiliates in other jurisdictions. **Legal basis for processing**. Our legal bases for processing your Personal Information include: * Performance of a contract with you when we provide and maintain our Services. When we process Account Information, Content, and Technical Information solely to provide our Services to you, this information is necessary to be able to provide our Services. If you do not provide this information, we may not be able to provide our Services to you. * Our legitimate interests in protecting our Services from abuse, fraud, or security risks, or in developing, improving, or promoting our Services, including when we train our models. This may include the processing of Account Information, Content, Social Information, and Technical Information. Read [our instructions(opens in a new', 'plaintiff or class member in any purported class, consolidated, or representative proceeding. Class arbitrations, class actions, and representative actions are prohibited. Only individual relief is available. The parties agree to sever and litigate in court any request for public injunctive relief after completing arbitration for the underlying claim and all other claims. This does not prevent either party from participating in a class-wide settlement. You and OpenAI knowingly and irrevocably waive any right to trial by jury in any action, proceeding, or counterclaim. **Batch arbitration.** If 25 or more claimants represented by the same or similar counsel file demands for arbitration raising substantially similar Disputes within 90 days of each other, then you and OpenAI agree that NAM will administer them in batches of up to 50 claimants each (“Batch”), unless there are less than 50 claimants in total or after batching, which will comprise a single Batch. NAM will administer each Batch as a single consolidated arbitration with one arbitrator, one set of arbitration fees, and one hearing held by videoconference or in a location decided by the arbitrator for each Batch. If any part of this section is found to be invalid or unenforceable as to a particular claimant or Batch, it will be severed and arbitrated in individual proceedings. **Severability.** If any part of these arbitration terms is found to be illegal or unenforceable, the remainder will remain in effect, except that if a finding of partial illegality or unenforceability would allow class arbitration, class action, or representative action, this entire dispute resolution section will be unenforceable in its entirety. Copyright complaints -------------------- If you believe that your intellectual property rights have been infringed, please send notice to the address below or fill out [this form](/form/copyright-disputes/) . We may delete or disable content that we believe violates these Terms or is alleged to be infringing and will terminate accounts of repeat infringers where appropriate. > OpenAI, L.L.C. > 3180 18th St. > San Francisco, California 94110 > Attn: General Counsel / Copyright Agent Written claims concerning copyright infringement must include the following information: * A physical or electronic signature of the person authorized to act on behalf of the owner of the copyright interest * A description of the copyrighted work that you claim has been infringed upon * A description of where the allegedly infringing material is located on our site so we can find it * Your address, telephone number, and e-mail address * A statement by you that you have a good-faith belief that the disputed use is not authorized by the copyright owner, its agent, or the law * A statement by you that the above information in your notice is accurate and, under penalty of perjury, that you are the copyright owner or authorized to act on the copyright owner’s behalf General Terms ------------- **Assignment.** You may not assign or transfer any rights or obligations under these Terms and any attempt to do so will be void. We may assign our rights or obligations under these Terms to any affiliate, subsidiary, or successor in', '[Our Charter](/charter/) * [Security](/security-and-privacy/) * [Residency](/residency/) * [Careers](/careers/) Terms & policies * [Terms of use](/policies/terms-of-use/) * [Privacy policy](/policies/privacy-policy/) * [Brand guidelines](/brand/) * [Other policies](/policies/) OpenAI © 2015–2024 [(opens in a new window)](https://x.com/OpenAI) [(opens in a new window)](https://www.youtube.com/OpenAI) [(opens in a new window)](https://www.linkedin.com/company/openai) [(opens in a new window)](https://github.com/openai) [(opens in a new window)](https://www.instagram.com/openai/?hl=en) [(opens in a new window)](https://www.tiktok.com/@openai?lang=en) [(opens in a new window)](https://discord.gg/openai) [Skip to main content](#main) [](/) * Research * Products * Safety * Company Updated: November 14, 2023 Terms of use ============ **Effective:** January 31, 2024 ([previous version](/policies/mar-2023-terms/) ) Thank you for using OpenAI! These Terms of Use apply to your use of ChatGPT, DALL·E, and OpenAI’s other services for individuals, along with any associated software applications and websites (all together, “Services”). These Terms form an agreement between you and OpenAI, L.L.C., a Delaware company, and they include our [Service Terms](/policies/service-terms/) and important provisions for resolving disputes through arbitration. By using our Services, you agree to these Terms. If you reside in the European Economic Area, Switzerland, or the UK, your use of the Services is governed by [these terms](/policies/eu-terms-of-use/) . Our [Business Terms](/policies/business-terms/) govern use of ChatGPT Enterprise, our APIs, and our other services for businesses and developers. Our [Privacy Policy](/policies/privacy-policy/) explains how we collect and use personal information. Although it does not form part of these Terms, it is an important document that you should read. Who we are ---------- OpenAI is an AI research and deployment company. Our mission is to ensure that artificial general intelligence benefits all of humanity. For more information about OpenAI, please visit [https://openai.com/about](/about/) . Registration and access ----------------------- **Minimum age.** You must be at least 13 years old or the minimum age required in your country to consent to use the Services. If you are under 18 you must have your parent or legal guardian’s permission to use the Services. **Registration**. You must provide accurate and complete information to register for an account to use our Services. You may not share your account credentials or make your account available to anyone else and are responsible for all activities that occur under your account. If you create an account or use the Services on behalf of another person or entity, you must have the authority to accept these Terms on their behalf. Using our Services ------------------ **What you can do**. Subject to your compliance with these Terms, you may access and use our Services. In using our Services, you must comply with all applicable laws as well as our [Sharing & Publication Policy](/policies/sharing-publication-policy/) , [Usage Policies](/policies/usage-policies/) , and any other documentation, guidelines, or policies we make available to you. **What you cannot do**. You may not use our Services for any illegal, harmful, or abusive activity. For example, you may not: * Use our Services in a way that infringes, misappropriates or violates anyone’s rights. * Modify, copy, lease, sell or distribute any of our Services. * Attempt to or assist anyone to reverse engineer, decompile or discover the source code or underlying components of our Services, including our models, algorithms, or systems (except', 'interest of any business associated with our Services. **Changes to these Terms or our Services.** We are continuously working to develop and improve our Services. We may update these Terms or our Services accordingly from time to time. For example, we may make changes to these Terms or the Services due to: * Changes to the law or regulatory requirements. * Security or safety reasons. * Circumstances beyond our reasonable control. * Changes we make in the usual course of developing our Services. * To adapt to new technologies. We will give you at least 30 days advance notice of changes to these Terms that materially adversely impact you either via email or an in-product notification. All other changes will be effective as soon as we post them to our website. If you do not agree to the changes, you must stop using our Services. **Delay in enforcing these Terms.** Our failure to enforce a provision is not a waiver of our right to do so later. Except as provided in the dispute resolution section above, if any portion of these Terms is determined to be invalid or unenforceable, that portion will be enforced to the maximum extent permissible and it will not affect the enforceability of any other terms. **Trade controls.** You must comply with all applicable trade laws, including sanctions and export control laws. Our Services may not be used in or for the benefit of, or exported or re-exported to (a) any U.S. embargoed country or territory or (b) any individual or entity with whom dealings are prohibited or restricted under applicable trade laws. Our Services may not be used for any end use prohibited by applicable trade laws, and your Input may not include material or information that requires a government license for release or export. **Entire agreement.** These Terms contain the entire agreement between you and OpenAI regarding the Services and, other than any Service-specific terms, supersedes any prior or contemporaneous agreements between you and OpenAI. **Governing law.** California law will govern these Terms except for its conflicts of laws principles. Except as provided in the dispute resolution section above, all claims arising out of or relating to these Terms will be brought exclusively in the federal or state courts of San Francisco, California. Our research * [Overview](/research/) * [Index](/news/research/) Latest advancements * [GPT-4](/index/gpt-4/) * [GPT-4o mini](/index/gpt-4o-mini-advancing-cost-efficient-intelligence/) * [DALL·E 3](/index/dall-e-3/) * [Sora](/index/sora/) ChatGPT * [For Everyone](/chatgpt/) * [For Teams](/chatgpt/team/) * [For Enterprises](/chatgpt/enterprise/) * [ChatGPT login(opens in a new window)](https://chatgpt.com/) * [Download](/chatgpt/download/) API * [Platform overview](/api/) * [Pricing](/api/pricing/) * [Documentation(opens in a new window)](https://platform.openai.com/docs/introduction) * [API login(opens in a new window)](https://platform.openai.com/login?launch) Explore more * [OpenAI for business](/business/) * [Stories](/news/stories/) Safety overview * [Safety overview](/safety/) * [Safety standards](/safety-standards/) Teams * [Safety Systems](/safety-systems/) * [Preparedness](/preparedness/) * [Superalignment](/superalignment/) Company * [About us](/about/) * [News](/news/) * [Our Charter](/charter/) * [Security](/security-and-privacy/) * [Residency](/residency/) * [Careers](/careers/) Terms & policies * [Terms of use](/policies/terms-of-use/) * [Privacy policy](/policies/privacy-policy/) * [Brand guidelines](/brand/) * [Other policies](/policies/) OpenAI © 2015–2024 [(opens in a new window)](https://x.com/OpenAI) [(opens in a new window)](https://www.youtube.com/OpenAI) [(opens in a new window)](https://www.linkedin.com/company/openai) [(opens in a new', '. * [Explore GPTs(opens in a new window)](https://chatgpt.com/gpts) * [Announcements](/news/product/?tags=topic-announcements) * [Product](/news/product/?tags=topic-product) Author ------ [OpenAI](/news/?author=openai#results) Related articles ---------------- [View all Product](/news/product/) [Aug 6, 2024\\\\ \\\\ Aug 6, 2024\\\\ \\\\ Aug 6, 2024\\\\ \\\\ Introducing Structured Outputs in the API\\\\ \\\\ Introducing Structured Outputs in the API\\\\ \\\\ Introducing Structured Outputs in the API\\\\ \\\\ ![Structured Output in the API > Hero Image > Media Item](https://images.ctfassets.net/kftzwdyauwt9/1XeXlBlWdUBSPFcVPsOmOD/dc8123f1031a0f9fe1b816790ee510a9/Structured_Outputs_Cover.png?w=3840&q=90&fm=webp)](/index/introducing-structured-outputs-in-the-api/) [Jul 25, 2024\\\\ \\\\ SearchGPT is a prototype of new AI search features\\\\ \\\\ ![Search GPT > Cover Asset](https://images.ctfassets.net/kftzwdyauwt9/3PW6ybA3KHgTzQRTLewRE0/6b7dbca9baa496dce6cf2d929b0d971d/SearchGPT_1x1_Asset_2.png?w=3840&q=90&fm=webp)](/index/searchgpt-prototype/) [Jul 18, 2024\\\\ \\\\ Jul 18, 2024\\\\ \\\\ Jul 18, 2024\\\\ \\\\ New compliance and administrative tools for ChatGPT Enterprise\\\\ \\\\ New compliance and administrative tools for ChatGPT Enterprise\\\\ \\\\ New compliance and administrative tools for ChatGPT Enterprise\\\\ \\\\ ![New tools for ChatGPT Enterprise > Cover Image](https://images.ctfassets.net/kftzwdyauwt9/IPgFYDUMeUtWcg2ze2IsP/118ea87d54734ef3f49b432ee2a35b56/DALL_E_2024-07-17_16.25.57_-_Close-up_of_soft_pink_flower_petals_with_a_gentle_motion_blur_on_a_light_lavender_background__c.png?w=3840&q=90&fm=webp)](/index/new-tools-for-chatgpt-enterprise/) Our research * [Overview](/research/) * [Index](/news/research/) Latest advancements * [GPT-4](/index/gpt-4/) * [GPT-4o mini](/index/gpt-4o-mini-advancing-cost-efficient-intelligence/) * [DALL·E 3](/index/dall-e-3/) * [Sora](/index/sora/) ChatGPT * [For Everyone](/chatgpt/) * [For Teams](/chatgpt/team/) * [For Enterprises](/chatgpt/enterprise/) * [ChatGPT login(opens in a new window)](https://chatgpt.com/) * [Download](/chatgpt/download/) API * [Platform overview](/api/) * [Pricing](/api/pricing/) * [Documentation(opens in a new window)](https://platform.openai.com/docs/introduction) * [API login(opens in a new window)](https://platform.openai.com/login?launch) Explore more * [OpenAI for business](/business/) * [Stories](/news/stories/) Safety overview * [Safety overview](/safety/) * [Safety standards](/safety-standards/) Teams * [Safety Systems](/safety-systems/) * [Preparedness](/preparedness/) * [Superalignment](/superalignment/) Company * [About us](/about/) * [News](/news/) * [Our Charter](/charter/) * [Security](/security-and-privacy/) * [Residency](/residency/) * [Careers](/careers/) Terms & policies * [Terms of use](/policies/terms-of-use/) * [Privacy policy](/policies/privacy-policy/) * [Brand guidelines](/brand/) * [Other policies](/policies/) OpenAI © 2015–2024 [(opens in a new window)](https://x.com/OpenAI) [(opens in a new window)](https://www.youtube.com/OpenAI) [(opens in a new window)](https://www.linkedin.com/company/openai) [(opens in a new window)](https://github.com/openai) [(opens in a new window)](https://www.instagram.com/openai/?hl=en) [(opens in a new window)](https://www.tiktok.com/@openai?lang=en) [(opens in a new window)](https://discord.gg/openai) [Skip to main content](#main) [](/) * Research * Products * Safety * Company Pioneering research on the path to AGI ====================================== We believe our research will eventually lead to artificial general intelligence, a system that can solve human-level problems. Building safe and beneficial AGI is our mission. [View research index](/news/research/) [Learn about safety](/safety/) ![Floral painting](https://images.ctfassets.net/kftzwdyauwt9/wlZ9hZLXG4ukCix8yHZAk/4a065e155395d98eca016c84411ca1d9/openai-research-floral-painting.jpg?w=3840&q=90&fm=webp) “Safely aligning powerful AI systems is one of the most important unsolved problems for our mission. Techniques like learning from human feedback are helping us get closer, and we are actively researching new techniques to help us fill the gaps.” Josh Achiam, Researcher at OpenAI ### Focus areas We build our generative models using a technology called deep learning, which leverages large amounts of data to train an AI system to perform a task. Text ---- Our text models are advanced language processing tools that can generate, classify, and summarize text with high levels of coherence and accuracy. [Aligning language models to follow instructions\\\\ \\\\ Aligning language models to follow instructions\\\\ \\\\ Aligning language models to follow instructions\\\\ \\\\ We’ve trained language models that are much better at following user intentions than GPT-3.\\\\ \\\\ We’ve trained language models that are much better at following user intentions than GPT-3.\\\\ \\\\ We’ve trained language models that are much better at following user intentions than GPT-3.\\\\ \\\\ ![Aligning Language Models To Follow Instructions](https://images.ctfassets.net/kftzwdyauwt9/5b1e6906-9f64-42b7-b5d87c29543b/25be46c3552b7af3af0a1c5a70381626/image-13.webp?w=3840&q=90&fm=webp)](/index/instruction-following/) [Aligning language models to follow instructions\\\\ \\\\', \"are committed to a thriving ecosystem of publishers and creators. We hope to help users discover publisher sites and experiences, while bringing more choice to search. For decades, search has been a foundational way for publishers and creators to reach users. Now, we’re using AI to enhance this experience by highlighting high quality content in a conversational interface with multiple opportunities for users to engage. “AI search is going to become one of the key ways that people navigate the internet, and it's crucial, in these early days, that the technology is built in a way that values, respects, and protects journalism and publishers. We look forward to partnering with OpenAI in the process, and creating a new way for readers to discover The Atlantic.” Nicholas Thompson, CEO of The Atlantic SearchGPT is designed to help users connect with publishers by prominently citing and linking to them in searches. Responses have clear, in-line, named attribution and links so users know where information is coming from and can quickly engage with even more results in a sidebar with source links. ![SearchGPT Prototype > Media > Publishers Asset Media Item](https://images.ctfassets.net/kftzwdyauwt9/66ekdPwegMqXhIJHfoLdx1/56961043cda6c09f624388022505b0f7/SearchGPT_Publishers_V2.png?w=3840&q=90&fm=webp) We’ve partnered with publishers to build this experience and continue to seek their feedback. In addition to launching the SearchGPT prototype, we are also launching a way for publishers to manage how they appear in SearchGPT, so publishers have more choices. Importantly, SearchGPT is about search and is separate from training OpenAI’s generative AI foundation models. Sites can be surfaced in search results even if they opt out of generative AI training. To read more about publisher controls and OpenAI’s bots, see [here(opens in a new window)](https://platform.openai.com/docs/bots) . We’ve also heard from publishers and creators that they want to understand how best to engage with AI search products and how their content performs. We’ll use this prototype to learn more and share findings. If you’d like to share feedback, please email us at publishers-feedback@openai.com. “Sam and the truly talented team at OpenAI innately understand that for AI-powered search to be effective, it must be founded on the highest-quality, most reliable information furnished by trusted sources. For the heavens to be in equilibrium, the relationship between technology and content must be symbiotic and provenance must be protected.” Robert Thomson, Chief Executive, News Corp What comes next --------------- We’ll keep improving the experience in areas like local information and commerce. We also plan to get feedback on the prototype from users and publishers and bring the best of the experience into ChatGPT. If you're interested in trying SearchGPT, [sign up(opens in a new window)](http://chatgpt.com/search) for the waitlist. Author ------ [OpenAI](/news/?author=openai#results) Our research * [Overview](/research/) * [Index](/news/research/) Latest advancements * [GPT-4](/index/gpt-4/) * [GPT-4o mini](/index/gpt-4o-mini-advancing-cost-efficient-intelligence/) * [DALL·E 3](/index/dall-e-3/) * [Sora](/index/sora/) ChatGPT * [For Everyone](/chatgpt/) * [For Teams](/chatgpt/team/) * [For Enterprises](/chatgpt/enterprise/) * [ChatGPT login(opens in a new window)](https://chatgpt.com/) * [Download](/chatgpt/download/) API * [Platform overview](/api/) * [Pricing](/api/pricing/) * [Documentation(opens in a new window)](https://platform.openai.com/docs/introduction) * [API login(opens in a new window)](https://platform.openai.com/login?launch) Explore more * [OpenAI for business](/business/) * [Stories](/news/stories/) Safety overview * [Safety overview](/safety/) * [Safety standards](/safety-standards/) Teams * [Safety Systems](/safety-systems/)\", \"cents per 1M input tokens and 60 cents per 1M output tokens (roughly the equivalent of 2500 pages in a standard book). We plan to roll out fine-tuning for GPT-4o mini in the coming days. In ChatGPT, Free, Plus and Team users will be able to access GPT-4o mini starting today, in place of GPT-3.5. Enterprise users will also have access starting next week, in line with our mission to make the benefits of AI accessible to all. What’s Next ----------- Over the past few years, we’ve witnessed remarkable advancements in AI intelligence paired with substantial reductions in cost. For example, the cost per token of GPT-4o mini has dropped by 99% since text-davinci-003, a less capable model introduced in 2022. We’re committed to continuing this trajectory of driving down costs while enhancing model capabilities. We envision a future where models become seamlessly integrated in every app and on every website. GPT-4o mini is paving the way for developers to build and scale powerful AI applications more efficiently and affordably. The future of AI is becoming more accessible, reliable, and embedded in our daily digital experiences, and we’re excited to continue to lead the way. Author ------ [OpenAI](/news/?author=openai#results) Acknowledgments --------------- **Leads:** Jacob Menick, Kevin Lu, Shengjia Zhao, Eric Wallace, Hongyu Ren, Haitang Hu, Nick Stathas, Felipe Petroski Such **Program Lead:** Mianna Chen Contributions noted in [https://openai.com/gpt-4o-contributions/](https://openai.com/gpt-4o-contributions/) Footnotes --------- 1. 1 As of July 18th, 2024, an earlier version of GPT-4o mini outperforms GPT-4T 01-25.[](#citation-top-1) 2. 2 Eval numbers for GPT-4o mini are computed using our [simple-evals(opens in a new window)](https://github.com/openai/simple-evals) repo with the API assistant system message prompt. For competitor models, we take the maximum number over their reported number (if available), the [HELM(opens in a new window)](https://crfm.stanford.edu/helm) leaderboard, and our own reproduction via simple-evals.[](#citation-top-2) Our research * [Overview](/research/) * [Index](/news/research/) Latest advancements * [GPT-4](/index/gpt-4/) * [GPT-4o mini](/index/gpt-4o-mini-advancing-cost-efficient-intelligence/) * [DALL·E 3](/index/dall-e-3/) * [Sora](/index/sora/) ChatGPT * [For Everyone](/chatgpt/) * [For Teams](/chatgpt/team/) * [For Enterprises](/chatgpt/enterprise/) * [ChatGPT login(opens in a new window)](https://chatgpt.com/) * [Download](/chatgpt/download/) API * [Platform overview](/api/) * [Pricing](/api/pricing/) * [Documentation(opens in a new window)](https://platform.openai.com/docs/introduction) * [API login(opens in a new window)](https://platform.openai.com/login?launch) Explore more * [OpenAI for business](/business/) * [Stories](/news/stories/) Safety overview * [Safety overview](/safety/) * [Safety standards](/safety-standards/) Teams * [Safety Systems](/safety-systems/) * [Preparedness](/preparedness/) * [Superalignment](/superalignment/) Company * [About us](/about/) * [News](/news/) * [Our Charter](/charter/) * [Security](/security-and-privacy/) * [Residency](/residency/) * [Careers](/careers/) Terms & policies * [Terms of use](/policies/terms-of-use/) * [Privacy policy](/policies/privacy-policy/) * [Brand guidelines](/brand/) * [Other policies](/policies/) OpenAI © 2015–2024 [(opens in a new window)](https://x.com/OpenAI) [(opens in a new window)](https://www.youtube.com/OpenAI) [(opens in a new window)](https://www.linkedin.com/company/openai) [(opens in a new window)](https://github.com/openai) [(opens in a new window)](https://www.instagram.com/openai/?hl=en) [(opens in a new window)](https://www.tiktok.com/@openai?lang=en) [(opens in a new window)](https://discord.gg/openai) [Skip to main content](#main) [](/) * Research * Products * Safety * Company * [How it works](#how-it-works) * [Results](#results) * [Limitations](#limitations) * [Conclusions](#conclusions) July 24, 2024 Improving Model Safety Behavior with Rule-Based Rewards ======================================================= We've developed and applied a new method leveraging Rule-Based Rewards (RBRs) that aligns models to behave safely without extensive human data collection. [Read paper(opens in a new window)](https://cdn.openai.com/rule-based-rewards-for-language-model-safety.pdf) [View code\\\\ \\\\ (opens in a\", 'use Content you provide us to improve our Services, for example to train the models that power ChatGPT. Read [our instructions(opens in a new window)](https://help.openai.com/en/articles/5722486-how-your-data-is-used-to-improve-model-performance) on how you can opt out of our use of your Content to train our models. 3\\\\. Disclosure of personal information -------------------------------------- In certain circumstances we may provide your Personal Information to third parties without further notice to you, unless required by the law: * _Vendors and Service Providers_: To assist us in meeting business operations needs and to perform certain services and functions, we may provide Personal Information to vendors and service providers, including providers of hosting services, customer service vendors, cloud services, email communication software, web analytics services, and other information technology providers, among others. Pursuant to our instructions, these parties will access, process, or store Personal Information only in the course of performing their duties to us. * _Business Transfers_: If we are involved in strategic transactions, reorganization, bankruptcy, receivership, or transition of service to another provider (collectively, a “Transaction”), your Personal Information and other information may be disclosed in the diligence process with counterparties and others assisting with the Transaction and transferred to a successor or affiliate as part of that Transaction along with other assets. * _Legal Requirements_: We may share your Personal Information, including information about your interaction with our Services, with government authorities, industry peers, or other third parties (i) if required to do so by law or in the good faith belief that such action is necessary to comply with a legal obligation, (ii) to protect and defend our rights or property, (iii) if we determine, in our sole discretion, that there is a violation of our terms, policies, or the law; (iv) to detect or prevent fraud or other illegal activity; (v) to protect the safety, security, and integrity of our products, employees, or users, or the public, or (vi) to protect against legal liability. * _Affiliates_: We may disclose Personal Information to our affiliates, meaning an entity that controls, is controlled by, or is under common control with OpenAI. Our affiliates may use the Personal Information we share in a manner consistent with this Privacy Policy. * _Business Account Administrators_: When you join a ChatGPT Enterprise or business account, the administrators of that account may access and control your OpenAI account. In addition, if you create an account using an email address belonging to your employer or another organization, we may share the fact that you have an OpenAI account and certain account information, such as your email address, with your employer or organization to, for example, enable you to be added to their business account. * _Other Users and Third Parties You Share Information With_: Certain features allow you to display or share information with other users or third parties. For example, you may share ChatGPT conversations with other users via shared links or send information to third-party applications via custom actions for GPTs. Be sure you trust any user or third party with whom you share information. 4\\\\. Your rights --------------- Depending on location, individuals', \"models that can understand and simulate the real world, a capability we believe will be an important milestone for achieving AGI. Loading... Our research * [Overview](/research/) * [Index](/news/research/) Latest advancements * [GPT-4](/index/gpt-4/) * [GPT-4o mini](/index/gpt-4o-mini-advancing-cost-efficient-intelligence/) * [DALL·E 3](/index/dall-e-3/) * [Sora](/index/sora/) ChatGPT * [For Everyone](/chatgpt/) * [For Teams](/chatgpt/team/) * [For Enterprises](/chatgpt/enterprise/) * [ChatGPT login(opens in a new window)](https://chatgpt.com/) * [Download](/chatgpt/download/) API * [Platform overview](/api/) * [Pricing](/api/pricing/) * [Documentation(opens in a new window)](https://platform.openai.com/docs/introduction) * [API login(opens in a new window)](https://platform.openai.com/login?launch) Explore more * [OpenAI for business](/business/) * [Stories](/news/stories/) Safety overview * [Safety overview](/safety/) * [Safety standards](/safety-standards/) Teams * [Safety Systems](/safety-systems/) * [Preparedness](/preparedness/) * [Superalignment](/superalignment/) Company * [About us](/about/) * [News](/news/) * [Our Charter](/charter/) * [Security](/security-and-privacy/) * [Residency](/residency/) * [Careers](/careers/) Terms & policies * [Terms of use](/policies/terms-of-use/) * [Privacy policy](/policies/privacy-policy/) * [Brand guidelines](/brand/) * [Other policies](/policies/) OpenAI © 2015–2024 [(opens in a new window)](https://x.com/OpenAI) [(opens in a new window)](https://www.youtube.com/OpenAI) [(opens in a new window)](https://www.linkedin.com/company/openai) [(opens in a new window)](https://github.com/openai) [(opens in a new window)](https://www.instagram.com/openai/?hl=en) [(opens in a new window)](https://www.tiktok.com/@openai?lang=en) [(opens in a new window)](https://discord.gg/openai) [Skip to main content](#main) [](/) * Research * Products * Safety * Company ChatGPT * [Overview](/chatgpt/) * [Team](/chatgpt/team/) * [Enterprise](/chatgpt/enterprise/) * [Education](/chatgpt/education/) * [Pricing](/chatgpt/pricing/) ChatGPT Get answers. Find inspiration. Be more productive. ================================================== Free to use. Easy to try. Just ask and ChatGPT can help with writing, learning, brainstorming, and more. [Start now(opens in a new window)](https://chatgpt.com/) [Download the app](/chatgpt/download/) [Write a text inviting my neighbors to a barbecue(opens in a new window)](https://chatgpt.com/?q=Write+a+text+inviting+my+neighbors+to+a+barbecue) [Give me ideas for what to do with my kids' art(opens in a new window)](https://chatgpt.com/?q=Give+me+ideas+for+what+to+do+with+my+kids'+art) [Help me study vocabulary for a college entrance exam(opens in a new window)](https://chatgpt.com/?q=Help+me+study+vocabulary+for+a+college+entrance+exam) [Write a message that goes with a kitten gif for a friend on a rough day(opens in a new window)](https://chatgpt.com/?q=Write+a+message+that+goes+with+a+kitten+gif+for+a+friend+on+a+rough+day) [Test my knowledge on ancient civilizations(opens in a new window)](https://chatgpt.com/?q=Test+my+knowledge+on+ancient+civilizations) [Write a text asking a friend to be my plus-one at a wedding(opens in a new window)](https://chatgpt.com/?q=Write+a+text+asking+a+friend+to+be+my+plus-one+at+a+wedding) [Improve my essay writing ask me to outline my thoughts(opens in a new window)](https://chatgpt.com/?q=Improve+my+essay+writing+ask+me+to+outline+my+thoughts) [Tell me a fun fact about the Roman Empire(opens in a new window)](https://chatgpt.com/?q=Tell+me+a+fun+fact+about+the+Roman+Empire) [Write a text inviting my neighbors to a barbecue(opens in a new window)](https://chatgpt.com/?q=Write+a+text+inviting+my+neighbors+to+a+barbecue) [Give me ideas for what to do with my kids' art(opens in a new window)](https://chatgpt.com/?q=Give+me+ideas+for+what+to+do+with+my+kids'+art) [Help me study vocabulary for a college entrance exam(opens in a new window)](https://chatgpt.com/?q=Help+me+study+vocabulary+for+a+college+entrance+exam) [Write a message that goes with a kitten gif for a friend on a rough day(opens in a new window)](https://chatgpt.com/?q=Write+a+message+that+goes+with+a+kitten+gif+for+a+friend+on+a+rough+day) [Test my knowledge on ancient civilizations(opens in a new window)](https://chatgpt.com/?q=Test+my+knowledge+on+ancient+civilizations) [Write a text asking a friend to be my plus-one at a wedding(opens in a new window)](https://chatgpt.com/?q=Write+a+text+asking+a+friend+to+be+my+plus-one+at+a+wedding) [Improve my essay writing ask me to outline my thoughts(opens in a new window)](https://chatgpt.com/?q=Improve+my+essay+writing+ask+me+to+outline+my+thoughts) [Tell me a fun fact about the Roman Empire(opens in a new window)](https://chatgpt.com/?q=Tell+me+a+fun+fact+about+the+Roman+Empire) [Write a text inviting my neighbors to a barbecue(opens in a new window)](https://chatgpt.com/?q=Write+a+text+inviting+my+neighbors+to+a+barbecue) [Give me ideas for what to do with my kids' art(opens in a new window)](https://chatgpt.com/?q=Give+me+ideas+for+what+to+do+with+my+kids'+art) [Help me study vocabulary for a college entrance exam(opens in a new window)](https://chatgpt.com/?q=Help+me+study+vocabulary+for+a+college+entrance+exam) [Write a message that goes with a kitten gif for\", 'may limit the ability of our Services to better address your specific use case. **Accuracy.** Artificial intelligence and machine learning are rapidly evolving fields of study. We are constantly working to improve our Services to make them more accurate, reliable, safe, and beneficial. Given the probabilistic nature of machine learning, use of our Services may, in some situations, result in Output that does not accurately reflect real people, places, or facts. When you use our Services you understand and agree: * Output may not always be accurate. You should not rely on Output from our Services as a sole source of truth or factual information, or as a substitute for professional advice. * You must evaluate Output for accuracy and appropriateness for your use case, including using human review as appropriate, before using or sharing Output from the Services. * You must not use any Output relating to a person for any purpose that could have a legal or material impact on that person, such as making credit, educational, employment, housing, insurance, legal, medical, or other important decisions about them. * Our Services may provide incomplete, incorrect, or offensive Output that does not represent OpenAI’s views. If Output references any third party products or services, it doesn’t mean the third party endorses or is affiliated with OpenAI. Our IP rights ------------- We and our affiliates own all rights, title, and interest in and to the Services. You may only use our name and logo in accordance with our [Brand Guidelines](/brand/) . Paid accounts ------------- **Billing.** If you purchase any Services, you will provide complete and accurate billing information, including a valid payment method. For paid subscriptions, we will automatically charge your payment method on each agreed-upon periodic renewal until you cancel. You’re responsible for all applicable taxes, and we’ll charge tax when required. If your payment cannot be completed, we may downgrade your account or suspend your access to our Services until payment is received. **Service credits.** You can pay for some Services in advance by purchasing service credits. All service credits are subject to our [Service Credit Terms](/policies/service-credit-terms/) . **Cancellation.** You can [cancel(opens in a new window)](https://help.openai.com/en/articles/7232927-how-do-i-cancel-my-chatgpt-plus-subscription) your paid subscription at any time. Payments are non-refundable, except where required by law. These Terms do not override any mandatory local laws regarding your cancellation rights. **Changes.** We may change our prices from time to time. If we increase our subscription prices, we will give you at least 30 days’ notice and any price increase will take effect on your next renewal so that you can cancel if you do not agree to the price increase. Termination and suspension -------------------------- **Termination.** You are free to stop using our Services at any time. We reserve the right to suspend or terminate your access to our Services or delete your account if we determine: * You breached these Terms or our [Usage Policies](/policies/usage-policies/) . * We must do so to comply with the law. * Your use of our Services could cause risk or harm to OpenAI, our users, or anyone else. We also may', 'Terms existed (a “Dispute”), through final and binding arbitration. You may opt out of arbitration within 30 days of account creation or of any updates to these arbitration terms within 30 days after the update has taken effect by filling out [this form(opens in a new window)](https://docs.google.com/forms/d/e/1FAIpQLSeho5zqudbNosAqbzvdaOJJZVn5b4or85nVUu03ruH25k0TRA/viewform) . If you opt out of an update, the last set of agreed upon arbitration terms will apply. **Informal dispute resolution.** We would like to understand and try to address your concerns prior to formal legal action. Before either of us files a claim against the other, we both agree to try to resolve the Dispute informally. You agree to do so by sending us notice through this [form(opens in a new window)](https://docs.google.com/forms/d/e/1FAIpQLSe6iKNzSYs6mc8CRR1EIGk1yzh9S6BhJUperYaWr5FaElrk0g/viewform) . We will do so by sending you notice to the email address associated with your account. If we are unable to resolve a Dispute within 60 days, either of us has the right to initiate arbitration. We also both agree to attend an individual settlement conference if either party requests one during this time. Any statute of limitations will be tolled during this informal resolution process. **Arbitration forum.** If we are unable to resolve the Dispute, either of us may commence arbitration with National Arbitration and Mediation (“NAM”) under its Comprehensive Dispute Resolution Rules and Procedures and/or Supplemental Rules for Mass Arbitration Filings, as applicable (available [here(opens in a new window)](https://www.namadr.com/resources/rules-fees-forms/) ). OpenAI will not seek attorneys’ fees and costs in arbitration unless the arbitrator determines that your claim is frivolous. The activities described in these Terms involve interstate commerce and the Federal Arbitration Act will govern the interpretation and enforcement of these arbitration terms and any arbitration. **Arbitration procedures.** The arbitration will be conducted by videoconference if possible, but if the arbitrator determines a hearing should be conducted in person, the location will be mutually agreed upon, in the county where you reside, or as determined by the arbitrator, unless the batch arbitration process applies. The arbitration will be conducted by a sole arbitrator. The arbitrator will be either a retired judge or an attorney licensed to practice law in the state of California. The arbitrator will have exclusive authority to resolve any Dispute, except the state or federal courts of San Francisco, California have the authority to determine any Dispute about enforceability, validity of the class action waiver, or requests for public injunctive relief, as set out below. Any settlement offer amounts will not be disclosed to the arbitrator by either party until after the arbitrator determines the final award, if any. The arbitrator has the authority to grant motions dispositive of all or part of any Dispute. **Exceptions.** This section does not require informal dispute resolution or arbitration of the following claims: (i) individual claims brought in small claims court; and (ii) injunctive or other equitable relief to stop unauthorized use or abuse of the Services or intellectual property infringement or misappropriation. **CLASS AND JURY TRIAL WAIVERS.** You and OpenAI agree that Disputes must be brought on an individual basis only, and may not be brought as a', \"new window)](https://www.youtube.com/OpenAI) [(opens in a new window)](https://www.linkedin.com/company/openai) [(opens in a new window)](https://github.com/openai) [(opens in a new window)](https://www.instagram.com/openai/?hl=en) [(opens in a new window)](https://www.tiktok.com/@openai?lang=en) [(opens in a new window)](https://discord.gg/openai) [Skip to main content](#main) [](/) * Research * Products * Safety * Company Open AI | Creating safe AGI that benefits all of humanity. ========================================================== ![](https://openai.com/images.ctfassets.net/kftzwdyauwt9/2Wet7rkEt83TBP19pRaoSU/c227e5b5949a5931c343eeb70e4bd99f/Mac_App_Hero_V1.png?w=3840&q=90&fm=webp) [](/chatgpt/mac/) ChatGPT on your desktop ----------------------- ChatGPT on your desktop ----------------------- ChatGPT on your desktop ----------------------- Chat about email, screenshots, files, and anything on your screen. Chat about email, screenshots, files, and anything on your screen. Chat about email, screenshots, files, and anything on your screen. [Learn more](/chatgpt/mac/) [(opens in a new window)](https://chatgpt.com) Ask ChatGPT anything -------------------- Ask ChatGPT anything Quiz me on vocabularyPlan a surf trip to Costa Rica in AugustExplica por qué el maíz palomitas explotaTeach me Mahjong for beginnersExplain this codeWas mach ich in Berlin wenn es regnet?Draw me a treasure map for Emil's birthdayRédigez une note de remerciementRecommend an easy potluck dishハーフマラソンのトレーニングを手伝ってくださいHelp me improve this job descriptionWrite a Python scriptDraw a picture of a mini aussie as a diverSummarize this pdf forTranslate this recipe into GreekRank dog breeds for a small apartment楽しいディナーパーティーの計画を手伝ってくださいExplain paradiddles for me Quais são as chances de Portugal na Euro 2024? Compare business strategies for transitioning from budget to luxuryTeach me to negotiateSugiere actividades divertidas para una familia que visita San Francisco.Plan an itinerary for teens in Hong KongDesign a database schemaRecommend an easy potluck dishHelp me build a budgetKritisiere meine KurzgeschichteFind gentle lower back stretchesMake this recipe vegetarianExpliquez le trading d'options comme si j'avais 5 ansHelp me pick a halloween costumeWrite a polite rejection emailGenerate fantasy football team namesElabore um calendário de conteúdo para redes sociaisExplique a turbulência em aviõesBrainstorm domain namesExplain nostalgia to a kindergartener面接の質問を一緒に考えてくださいSummarize my meeting notesExplique a turbulência em aviõesPlan a college tourWrite a SQL QueryHelp me with gift ideas for my dadRédigez un email pour un devis de réparationTroubleshoot my printer set-upWrite a thank-you noteHelp me debug this codeCrea un entrenamiento de movilidadBrainstorm podcast episode ideasReview my argument for a debateSuggérez des lieux pour une séance photo à MarseilleDraft a checklist for a dog-sitterRank e-bikes for daily commutingQuiz me on vocabulary ![](https://openai.com/images.ctfassets.net/kftzwdyauwt9/4HGPvb9dhHOzl8BVIah0ZG/af1d09bade2e153599c6c7d7c04bc33c/apple-art-2a-2x1.jpg?w=3840&q=90&fm=webp) [](/index/openai-and-apple-announce-partnership/) Apple & ChatGPT --------------- Apple & ChatGPT --------------- Apple & ChatGPT --------------- OpenAI and Apple announce partnership to integrate ChatGPT into Apple experiences. OpenAI and Apple announce partnership to integrate ChatGPT into Apple experiences. OpenAI and Apple announce partnership to integrate ChatGPT into Apple experiences. [Learn more](/index/openai-and-apple-announce-partnership/) ![](https://openai.com/images.ctfassets.net/kftzwdyauwt9/3cSZykppt940Q5vMHjbYd8/f111f0645166996fd77bd543d4cfd238/spring_updates.jpg?w=3840&q=90&fm=webp) [](/index/spring-update/) Spring Update ------------- Introducing GPT-4o and making more capabilities available for free in ChatGPT. [Learn more](/index/spring-update/) [](/index/sora/) Introducing Sora ---------------- Introducing Sora ---------------- Introducing Sora ---------------- Creating realistic and imaginative video from text. Creating realistic and imaginative video from text. Creating realistic and imaginative video from text. [Learn more](/index/sora/) [ChatGPT](/chatgpt/) --------------------- [For Everyone\\\\ \\\\ For Everyone\\\\ \\\\ For Everyone\\\\ \\\\ Let your imagination run wild\\\\ \\\\ Let your imagination run wild\\\\ \\\\ Let your imagination run wild\\\\ \\\\ ![ChatGPT Carousel1](https://images.ctfassets.net/kftzwdyauwt9/1ZTOGp7opuUflFmI2CsATh/df5da4be74f62c70d35e2f5518bf2660/ChatGPT_Carousel1.png?w=3840&q=90&fm=webp)](/chatgpt/) [For Everyone\\\\ \\\\ For Everyone\\\\ \\\\ For Everyone\\\\ \\\\ Let your imagination run wild\\\\ \\\\ Let your imagination run wild\\\\ \\\\ Let your imagination run\", 'the strategy we’ve refined over the past two years, including feedback from many people internal and external to OpenAI. The timeline to AGI remains uncertain, but our Charter will guide us in acting in the best interests of humanity throughout its development. OpenAI’s mission is to ensure that artificial general intelligence (AGI)—by which we mean highly autonomous systems that outperform humans at most economically valuable work—benefits all of humanity. We will attempt to directly build safe and beneficial AGI, but will also consider our mission fulfilled if our work aids others to achieve this outcome. To that end, we commit to the following principles: #### Broadly distributed benefits We commit to use any influence we obtain over AGI’s deployment to ensure it is used for the benefit of all, and to avoid enabling uses of AI or AGI that harm humanity or unduly concentrate power. Our primary fiduciary duty is to humanity. We anticipate needing to marshal substantial resources to fulfill our mission, but will always diligently act to minimize conflicts of interest among our employees and stakeholders that could compromise broad benefit. #### Long-term safety We are committed to doing the research required to make AGI safe, and to driving the broad adoption of such research across the AI community. We are concerned about late-stage AGI development becoming a competitive race without time for adequate safety precautions. Therefore, if a value-aligned, safety-conscious project comes close to building AGI before we do, we commit to stop competing with and start assisting this project. We will work out specifics in case-by-case agreements, but a typical triggering condition might be “a better-than-even chance of success in the next two years.” #### Technical leadership To be effective at addressing AGI’s impact on society, OpenAI must be on the cutting edge of AI capabilities—policy and safety advocacy alone would be insufficient. We believe that AI will have broad societal impact before AGI, and we’ll strive to lead in those areas that are directly aligned with our mission and expertise. #### Cooperative orientation We will actively cooperate with other research and policy institutions; we seek to create a global community working together to address AGI’s global challenges. We are committed to providing public goods that help society navigate the path to AGI. Today this includes publishing most of our AI research, but we expect that safety and security concerns will reduce our traditional publishing in the future, while increasing the importance of sharing safety, policy, and standards research. Our research * [Overview](/research/) * [Index](/news/research/) Latest advancements * [GPT-4](/index/gpt-4/) * [GPT-4o mini](/index/gpt-4o-mini-advancing-cost-efficient-intelligence/) * [DALL·E 3](/index/dall-e-3/) * [Sora](/index/sora/) ChatGPT * [For Everyone](/chatgpt/) * [For Teams](/chatgpt/team/) * [For Enterprises](/chatgpt/enterprise/) * [ChatGPT login(opens in a new window)](https://chatgpt.com/) * [Download](/chatgpt/download/) API * [Platform overview](/api/) * [Pricing](/api/pricing/) * [Documentation(opens in a new window)](https://platform.openai.com/docs/introduction) * [API login(opens in a new window)](https://platform.openai.com/login?launch) Explore more * [OpenAI for business](/business/) * [Stories](/news/stories/) Safety overview * [Safety overview](/safety/) * [Safety standards](/safety-standards/) Teams * [Safety Systems](/safety-systems/) * [Preparedness](/preparedness/) * [Superalignment](/superalignment/) Company * [About us](/about/) * [News](/news/) * [Our Charter](/charter/) * [Security](/security-and-privacy/) * [Residency](/residency/) * [Careers](/careers/) Terms & policies *', 'Access the power of our models with APIs Chat Completions API Assistants APIBatch API Chat Completions API Assistants APIBatch API ###### Chat Completions API Get access to our most powerful models with a few lines of code. [Learn more](https://platform.openai.com/docs/guides/text-generation/chat-completions-api) ![API > Tabs > Chat Completions API > Two Up > Media > Asset](https://images.ctfassets.net/kftzwdyauwt9/6ZjPNWFU1dyEpRjT2BqB3R/fbac392265b2a20d28c0ff20bff59029/Chat_Completions_API_desktop_dark.jpg?w=3840&q=90&fm=webp) ###### Assistants API Build AI assistants within your own applications that can leverage models, tools, and knowledge to do complex, multi-step tasks. [Learn more](https://platform.openai.com/docs/assistants/overview) ![API > Tabs > Assistants API > Two up > Media > Asset](https://images.ctfassets.net/kftzwdyauwt9/41rRuZkL7Oex5f7lOOOs5m/fa61b0ec85a445a92bef310d8ffa21aa/Assistants_API.jpg?w=3840&q=90&fm=webp) ###### Batch API Run asynchronous workloads for 50% of the cost over 24 hours. [Learn more](https://platform.openai.com/docs/guides/batch) ![API > Tabs > Batch API > Two up > Media > Asset](https://images.ctfassets.net/kftzwdyauwt9/2EuEzGGrHBDmIv3P7rhReb/4bc1beac9402688075213b066db93e54/BatchAPI.jpg?w=3840&q=90&fm=webp) ### Build AI-native experiences with our tools and capabilities ###### Knowledge retrieval Give the model access to your data for intelligent retrieval in your AI applications. [Learn more](https://platform.openai.com/docs/assistants/tools/file-search) ![API > Knowledge retrieval > Media > Asset](https://images.ctfassets.net/kftzwdyauwt9/549RWA1irZx4dgrE0QqIvq/158ce22583a53efef5139fff97529093/Knowledge_retrieval_API_desktop_light.jpg?w=3840&q=90&fm=webp) ###### Code interpreter Get models to run code iteratively to solve challenging code and math problems, and generate charts. [Learn more](https://platform.openai.com/docs/assistants/tools/code-interpreter) ![API Test > Code interpreter > Media > Asset](https://images.ctfassets.net/kftzwdyauwt9/3ifnbbKQifz4pDDWXp0bAc/4a4148e7de2dc5022113808bbce3d338/Code_interpreter_API_desktop_light.jpg?w=3840&q=90&fm=webp) ###### Function calling Instruct the model to intelligently interact with your codebase and APIs using custom functions. [Learn more](https://platform.openai.com/docs/assistants/tools/function-calling) ![API Test > Function calling > Media > Asset](https://images.ctfassets.net/kftzwdyauwt9/7B7eOk5AGZqU7E55cW8X7o/d3ec94492b0741a7a69c367a1316b2ea/Function_calling_API_desktop.png?w=3840&q=90&fm=webp) ###### Vision Get the model to understand and answer questions about images using vision capabilities. [Learn more](https://platform.openai.com/docs/guides/vision) ![API Test > Vision > Media > Asset](https://images.ctfassets.net/kftzwdyauwt9/15rClqAAmT7HwPHHO40vnP/a303489ed5a760d291229c70f10a0227/Vision.jpg?w=3840&q=90&fm=webp) ###### JSON Mode Guarantee JSON outputs from the model when you enable JSON mode. [Learn more](https://platform.openai.com/docs/guides/text-generation/json-mode) ![API > JSON Mode > Media > Asset](https://images.ctfassets.net/kftzwdyauwt9/55d74FcJxXrV3OT5V8HoZJ/186d31ba2bd5c4db0ceebabc4871259f/JSON_Mode__Code_Snippet.jpg?w=3840&q=90&fm=webp) ###### Streaming Display model outputs in real-time as they are generated. [Learn more](https://platform.openai.com/docs/api-reference/streaming) Your browser does not support the video tag. ### Customize models for your needs Fine-tuning API Custom model program Fine-tuning API Custom model program ###### Fine-tuning Customize a model’s existing knowledge and behavior for a specific task via supervised fine-tuning. [Learn more](https://platform.openai.com/docs/guides/fine-tuning) ![API > Tabs 2 > Fine-Tuning API > Two Up > Media > Asset > Light](https://images.ctfassets.net/kftzwdyauwt9/6V9w6MO7aYDwmFMR1I8eDf/c1d59183ae7b49c227da78abc2e3cdad/Fine-tuning_API_desktop_light.jpg?w=3840&q=90&fm=webp) ###### Custom model program Maximize fine-tuning performance or train a custom model on new, domain-specific knowledge. [Learn more](https://openai.com/form/custom-models/) Your browser does not support the video tag. ### See what you can build in Playground Explore our models and APIs in Playground without writing a single line of code. [Start exploring](https://platform.openai.com/playground) ![API > Playground> Media > Asset](https://images.ctfassets.net/kftzwdyauwt9/28qxxWxqGHZGPjIzjsxPEI/f8583f89ca8f5db32c4fa0ccdb177086/API-Playground.jpg?w=3840&q=90&fm=webp) Trusted by the world’s most innovative organizations ---------------------------------------------------- Our customers are leading the way with AI-powered customer service, knowledge management, recommendation engines, audio translation, content generation, and more. [Story\\\\ \\\\ Oscar brings AI to health insurance, reducing costs and improving patient care\\\\ \\\\ ![Oscar Cover Image](https://images.ctfassets.net/kftzwdyauwt9/3pyY5QDNdExFmc3OcrqqBK/643bb793e8173e886c56e952e34c69c2/oscar.png?w=3840&q=90&fm=webp)](/index/oscar/) [Story\\\\ \\\\ Oscar brings AI to health insurance, reducing costs and improving patient care\\\\ \\\\ ![Oscar Cover Image](https://images.ctfassets.net/kftzwdyauwt9/3pyY5QDNdExFmc3OcrqqBK/643bb793e8173e886c56e952e34c69c2/oscar.png?w=3840&q=90&fm=webp)](/index/oscar/) [Story\\\\ \\\\ Harvey partners with OpenAI to build a custom-trained model for legal professionals.\\\\ \\\\ ![Black Harvey logo on a white background.](https://images.ctfassets.net/kftzwdyauwt9/3Bre17thWaoDDc2jrKbMB7/3599c43369575e04ad1a7a4a9eea2d36/harvey.png?w=3840&q=90&fm=webp)](/index/harvey/) [Story\\\\ \\\\ Harvey partners with OpenAI to build a custom-trained model for legal professionals.\\\\ \\\\ ![Black Harvey logo on a white background.](https://images.ctfassets.net/kftzwdyauwt9/3Bre17thWaoDDc2jrKbMB7/3599c43369575e04ad1a7a4a9eea2d36/harvey.png?w=3840&q=90&fm=webp)](/index/harvey/) [Superhuman\\\\ \\\\ Superhuman introduces a new era of email with OpenAI.\\\\ \\\\ ![Screenshot 2024 03', 'that would be valid according to the supplied schema, rather than all available tokens. It can be challenging to implement this constraining in practice, since the tokens that are valid differ throughout a model’s output. Let’s say we have the following schema: **JSON** ` 12345678 1 { 2 \"type\": \"object\", 3 \"properties\": { 4 \"value\": { \"type\": \"number\" } 5 }, 6 \"required\": [\"value\"], 7 \"additionalProperties\": false 8 } ` The tokens that are valid at the beginning of the output include things like `{`, `{“`, `{\\\\n`, etc. However, once the model has already sampled `{“val`, then `{` is no longer a valid token. Thus we need to implement dynamic constrained decoding, and determine which tokens are valid after each token is generated, rather than upfront at the beginning of the response. To do this, we convert the supplied JSON Schema into a context-free grammar (CFG). A grammar is a set of rules that defines a language, and a context-free grammar is a grammar that conforms to specific rules. You can think of JSON and JSON Schema as particular languages with rules to define what is valid within the language. Just as it’s not valid in English to have a sentence with no verb, it is not valid in JSON to have a trailing comma. Thus, for each JSON Schema, we compute a grammar that represents that schema, and pre-process its components to make it easily accessible during model sampling. This is why the first request with a new schema incurs a latency penalty—we must preprocess the schema to generate this artifact that we can use efficiently during sampling. While sampling, after every token, our inference engine will determine which tokens are valid to be produced next based on the previously generated tokens and the rules within the grammar that indicate which tokens are valid next. We then use this list of tokens to mask the next sampling step, which effectively lowers the probability of invalid tokens to 0. Because we have preprocessed the schema, we can use a cached data structure to do this efficiently, with minimal latency overhead. Alternate approaches -------------------- Alternate approaches to this problem often use finite state machines (FSMs) or regexes (generally implemented with FSMs) for constrained decoding. These function similarly in that they dynamically update which tokens are valid after each token is produced, but they have some key differences from the CFG approach. Notably, CFGs can express a broader class of languages than FSMs. In practice, this doesn’t matter for very simple schemas like the `value` schema shown above. However, we find that the difference is meaningful for more complex schemas that involve nested or recursive data structures. As an example, FSMs cannot generally express recursive types, which means FSM based approaches may struggle to match parentheses in deeply nested JSON. The following is a sample recursive schema that is supported on the OpenAI API with Structured Outputs but would not be possible to express with a FSM. **JSON** ` 123456789101112131415161718192021222324252627282930313233343536373839404142434445 1 { 2 \"name\": \"ui\", 3 \"description\": \"Dynamically generated UI\", 4 \"strict\": true, 5', '170 | | Total tokens | 255 | | Total price | $0.000638 | \\\\*Batch API pricing requires requests to be submitted as a batch. Responses will be returned within 24 hours for a 50% discount. [Learn more about Batch API ↗(opens in a new window)](https://platform.openai.com/docs/guides/batch) GPT-4o mini GPT-4o mini GPT-4o mini is our most cost-efficient small model that’s smarter and cheaper than GPT-3.5 Turbo, and has vision capabilities. The model has 128K context and an October 2023 knowledge cutoff. [Learn about GPT-4o mini\\\\ \\\\ (opens in a new window)](/index/gpt-4o-mini-advancing-cost-efficient-intelligence) Model Pricing Pricing with Batch API\\\\* gpt-4o-mini $0.150 / 1M input tokens $0.075 / 1M input tokens $0.600 / 1M output tokens $0.300 / 1M output tokens gpt-4o-mini-2024-07-18 $0.150 / 1M input tokens $0.075 / 1M input tokens $0.600 / 1M output tokens $0.300 / 1M output tokens Vision pricing calculator Set width px by Set height px \\\\=$0.001275 Low resolution \\\\=$0.001275 | | | | --- | --- | | Price per 1M tokens (fixed) | $0.15 | | 512 × 512 tiles | 1 × 1 | | Total tiles | 1 | | Base tokens | 2833 | | Tile tokens | 5667 × 1 = 5667 | | Total tokens | 8500 | | Total price | $0.001275 | \\\\*Batch API pricing requires requests to be submitted as a batch. Responses will be returned within 24 hours for a 50% discount. [Learn more about Batch API ↗(opens in a new window)](https://platform.openai.com/docs/guides/batch) Embedding models Embedding models Build advanced search, clustering, topic modeling, and classification functionality with our embeddings offering. [Learn about embeddings\\\\ \\\\ (opens in a new window)](https://platform.openai.com/docs/guides/embeddings) Model Pricing Pricing with Batch API\\\\* text-embedding-3-small $0.020 / 1M tokens $0.010 / 1M tokens text-embedding-3-large $0.130 / 1M tokens $0.065 / 1M tokens ada v2 $0.100 / 1M tokens $0.050 / 1M tokens \\\\*Batch API pricing requires requests to be submitted as a batch. Responses will be returned within 24 hours for a 50% discount. [Learn more about Batch API ↗(opens in a new window)](https://platform.openai.com/docs/guides/batch) Fine-tuning models Fine-tuning models Create your own custom models by fine-tuning our base models with your training data. Once you fine-tune a model, you’ll be billed only for the tokens you use in requests to that model. [Learn about fine-tuning\\\\ \\\\ (opens in a new window)](https://platform.openai.com/docs/guides/fine-tuning) Model Pricing Pricing with Batch API\\\\* gpt-4o-mini-2024-07-18\\\\*\\\\* $0.30 / 1M input tokens $0.15 / 1M input tokens $1.20 / 1M output tokens $0.60 / 1M output tokens $3.00 / 1M training tokens gpt-3.5-turbo $3.00 / 1M input tokens $1.50 / 1M input tokens $6.00 / 1M output tokens $3.00 / 1M output tokens $8.00 / 1M training tokens davinci-002 $12.00 / 1M input tokens $6.00 / 1M input tokens $12.00 / 1M output tokens $6.00 / 1M output tokens $6.00 / 1M training tokens babbage-002 $1.60 / 1M input tokens $0.80 / 1M input tokens $1.60 / 1M output tokens $0.80 / 1M output tokens $0.40 / 1M training tokens \\\\*Batch API pricing requires requests to be submitted as a batch. Responses will be returned within 24 hours for', \"\\\\ Company\\\\ \\\\ Jan 8, 2024\\\\ \\\\ Company\\\\ \\\\ Jan 8, 2024\\\\ \\\\ OpenAI and journalism\\\\ \\\\ OpenAI and journalism\\\\ \\\\ OpenAI and journalism\\\\ \\\\ ![OpenAI and Journalism](https://images.ctfassets.net/kftzwdyauwt9/dac215bf-e4e6-4ba8-5854fa7be5fb/370737643ef00b5d28b006c9723e4494/openai-and-journalism.jpg?w=3840&q=90&fm=webp)](/index/openai-and-journalism/) [Safety & Alignment\\\\ \\\\ Dec 14, 2023\\\\ \\\\ Safety & Alignment\\\\ \\\\ Dec 14, 2023\\\\ \\\\ Safety & Alignment\\\\ \\\\ Dec 14, 2023\\\\ \\\\ Superalignment Fast Grants\\\\ \\\\ Superalignment Fast Grants\\\\ \\\\ Superalignment Fast Grants\\\\ \\\\ ![Superalignment Fast Grants](https://images.ctfassets.net/kftzwdyauwt9/a351542d-47d2-4814-da8df306543a/a58d8b7ec0179c41600b748da144d0a4/superalignment-fast-grants.jpg?w=3840&q=90&fm=webp)](/index/superalignment-fast-grants/) [Safety & Alignment\\\\ \\\\ Dec 14, 2023\\\\ \\\\ Safety & Alignment\\\\ \\\\ Dec 14, 2023\\\\ \\\\ Safety & Alignment\\\\ \\\\ Dec 14, 2023\\\\ \\\\ Superalignment Fast Grants\\\\ \\\\ Superalignment Fast Grants\\\\ \\\\ Superalignment Fast Grants\\\\ \\\\ ![Superalignment Fast Grants](https://images.ctfassets.net/kftzwdyauwt9/a351542d-47d2-4814-da8df306543a/a58d8b7ec0179c41600b748da144d0a4/superalignment-fast-grants.jpg?w=3840&q=90&fm=webp)](/index/superalignment-fast-grants/) [Stories](/news/stories/) -------------------------- [Story\\\\ \\\\ Accelerating the development of life-saving treatments\\\\ \\\\ ![Moderna Logo Cover Image](https://images.ctfassets.net/kftzwdyauwt9/6ZbVhkbEtaf3T3zZi7XpML/4deeafb1917e49741e3e891eff986327/moderna.png?w=3840&q=90&fm=webp)](/index/moderna/) [Story\\\\ \\\\ Accelerating the development of life-saving treatments\\\\ \\\\ ![Moderna Logo Cover Image](https://images.ctfassets.net/kftzwdyauwt9/6ZbVhkbEtaf3T3zZi7XpML/4deeafb1917e49741e3e891eff986327/moderna.png?w=3840&q=90&fm=webp)](/index/moderna/) [Story\\\\ \\\\ Klarna's AI assistant does the work of 700 full-time agents\\\\ \\\\ ![klarna](https://images.ctfassets.net/kftzwdyauwt9/56KnHHVi2VZE238LC3P1Tr/6026c41ee515e8482bf08bf8aa767378/klarna.png?w=3840&q=90&fm=webp)](/index/klarna/) [Story\\\\ \\\\ Klarna's AI assistant does the work of 700 full-time agents\\\\ \\\\ ![klarna](https://images.ctfassets.net/kftzwdyauwt9/56KnHHVi2VZE238LC3P1Tr/6026c41ee515e8482bf08bf8aa767378/klarna.png?w=3840&q=90&fm=webp)](/index/klarna/) [Story\\\\ \\\\ Customizing models for legal professionals\\\\ \\\\ ![harvey](https://images.ctfassets.net/kftzwdyauwt9/4DxUPFNcfFXPjU2XOulEFE/0ea9dcd7b0599fde14b2904f4c37040a/harvey.png?w=3840&q=90&fm=webp)](/index/harvey/) [Story\\\\ \\\\ Customizing models for legal professionals\\\\ \\\\ ![harvey](https://images.ctfassets.net/kftzwdyauwt9/4DxUPFNcfFXPjU2XOulEFE/0ea9dcd7b0599fde14b2904f4c37040a/harvey.png?w=3840&q=90&fm=webp)](/index/harvey/) [Story\\\\ \\\\ Reducing health insurance costs and improving care\\\\ \\\\ ![oscar](https://images.ctfassets.net/kftzwdyauwt9/6NodPZaWaci7b5986jWfHf/4e1607101ba3c874d5960b2c9a7ffa23/oscar.png?w=3840&q=90&fm=webp)](/index/oscar/) [Story\\\\ \\\\ Reducing health insurance costs and improving care\\\\ \\\\ ![oscar](https://images.ctfassets.net/kftzwdyauwt9/6NodPZaWaci7b5986jWfHf/4e1607101ba3c874d5960b2c9a7ffa23/oscar.png?w=3840&q=90&fm=webp)](/index/oscar/) [Story\\\\ \\\\ Making education data accessible\\\\ \\\\ ![zelma](https://images.ctfassets.net/kftzwdyauwt9/6kQNeNK1Ah1bNHO8hOrwJm/cc00eeb0a84a1c37a10d79bfec44d231/zelma.png?w=3840&q=90&fm=webp)](/index/zelma/) [Story\\\\ \\\\ Making education data accessible\\\\ \\\\ ![zelma](https://images.ctfassets.net/kftzwdyauwt9/6kQNeNK1Ah1bNHO8hOrwJm/cc00eeb0a84a1c37a10d79bfec44d231/zelma.png?w=3840&q=90&fm=webp)](/index/zelma/) [Story\\\\ \\\\ Embedding AI into developer software\\\\ \\\\ ![jetbrains](https://images.ctfassets.net/kftzwdyauwt9/3MnwS3OwIcX2MJN9BzPAOx/7ecb8283033b88ed3003f0541b50fcf4/jetbrains.png?w=3840&q=90&fm=webp)](/index/jetbrains/) [Story\\\\ \\\\ Embedding AI into developer software\\\\ \\\\ ![jetbrains](https://images.ctfassets.net/kftzwdyauwt9/3MnwS3OwIcX2MJN9BzPAOx/7ecb8283033b88ed3003f0541b50fcf4/jetbrains.png?w=3840&q=90&fm=webp)](/index/jetbrains/) [Story\\\\ \\\\ Reimagining the email experience with AI\\\\ \\\\ ![superhuman](https://images.ctfassets.net/kftzwdyauwt9/eLKKm1rnwpCivCfd6SiPL/b5a281a314259808c1a0d44fed68df07/superhuman.png?w=3840&q=90&fm=webp)](/index/superhuman/) [Story\\\\ \\\\ Reimagining the email experience with AI\\\\ \\\\ ![superhuman](https://images.ctfassets.net/kftzwdyauwt9/eLKKm1rnwpCivCfd6SiPL/b5a281a314259808c1a0d44fed68df07/superhuman.png?w=3840&q=90&fm=webp)](/index/superhuman/) [Company](/news/company/) -------------------------- [Company\\\\ \\\\ May 8, 2024\\\\ \\\\ Company\\\\ \\\\ May 8, 2024\\\\ \\\\ Company\\\\ \\\\ May 8, 2024\\\\ \\\\ Introducing the Model Spec\\\\ \\\\ Introducing the Model Spec\\\\ \\\\ Introducing the Model Spec\\\\ \\\\ ![Cover image: Model Spec](https://images.ctfassets.net/kftzwdyauwt9/2oOdYlEm4NHQCiqTsStMuD/ffe7260fb16cac11a570313b78cec8b8/DALL_E_2024-05-06_19.10.23.webp?w=3840&q=90&fm=webp)](/index/introducing-the-model-spec/) [Company\\\\ \\\\ May 8, 2024\\\\ \\\\ Company\\\\ \\\\ May 8, 2024\\\\ \\\\ Company\\\\ \\\\ May 8, 2024\\\\ \\\\ Introducing the Model Spec\\\\ \\\\ Introducing the Model Spec\\\\ \\\\ Introducing the Model Spec\\\\ \\\\ ![Cover image: Model Spec](https://images.ctfassets.net/kftzwdyauwt9/2oOdYlEm4NHQCiqTsStMuD/ffe7260fb16cac11a570313b78cec8b8/DALL_E_2024-05-06_19.10.23.webp?w=3840&q=90&fm=webp)](/index/introducing-the-model-spec/) [Company\\\\ \\\\ Mar 8, 2024\\\\ \\\\ Company\\\\ \\\\ Mar 8, 2024\\\\ \\\\ Company\\\\ \\\\ Mar 8, 2024\\\\ \\\\ OpenAI announces new members to board of directors\\\\ \\\\ OpenAI announces new members to board of directors\\\\ \\\\ OpenAI announces new members to board of directors\\\\ \\\\ ![News > Company carousel > OpenAI new board members > Media Item](https://images.ctfassets.net/kftzwdyauwt9/1eZQ3ygMG9qrQRjycDmQIE/53c901d8d2fa24bb6ee2c1e8166a13f2/OpenAI-announces-new-members-to-board-of-directors.jpg?w=3840&q=90&fm=webp)](/index/openai-announces-new-members-to-board-of-directors/) [Company\\\\ \\\\ Mar 8, 2024\\\\ \\\\ Company\\\\ \\\\ Mar 8, 2024\\\\ \\\\ Company\\\\ \\\\ Mar 8, 2024\\\\ \\\\ OpenAI announces new members to board of directors\\\\ \\\\ OpenAI announces new members to board of directors\\\\ \\\\ OpenAI announces new members to board of directors\\\\ \\\\ ![News > Company carousel > OpenAI new board members > Media Item](https://images.ctfassets.net/kftzwdyauwt9/1eZQ3ygMG9qrQRjycDmQIE/53c901d8d2fa24bb6ee2c1e8166a13f2/OpenAI-announces-new-members-to-board-of-directors.jpg?w=3840&q=90&fm=webp)](/index/openai-announces-new-members-to-board-of-directors/) [Company\\\\ \\\\ Mar 8, 2024\\\\ \\\\ Review completed & Altman, Brockman to continue to lead OpenAI\\\\ \\\\ ![News > Company carousel > Review completed > Media](https://images.ctfassets.net/kftzwdyauwt9/3BEH4mYgX0MXC45XOsbOru/fdcc0dadabd87f8e9a776a2f34647de0/37.png?w=3840&q=90&fm=webp)](/index/review-completed-altman-brockman-to-continue-to-lead-openai/) [Company\\\\ \\\\ Mar 8, 2024\\\\ \\\\ Review completed & Altman, Brockman to continue to lead OpenAI\\\\ \\\\ ![News > Company carousel > Review completed > Media](https://images.ctfassets.net/kftzwdyauwt9/3BEH4mYgX0MXC45XOsbOru/fdcc0dadabd87f8e9a776a2f34647de0/37.png?w=3840&q=90&fm=webp)](/index/review-completed-altman-brockman-to-continue-to-lead-openai/) [Company\\\\ \\\\ Mar 5, 2024\\\\ \\\\ OpenAI and Elon Musk\\\\ \\\\ ![OpenAI and Elon\"]\n",
            "20\n"
          ]
        }
      ]
    },
    {
      "cell_type": "markdown",
      "source": [
        "## Step 8: Refine the Findings with LLM"
      ],
      "metadata": {
        "id": "SMjcN-iiLWWR"
      }
    },
    {
      "cell_type": "code",
      "source": [
        "\n",
        "import getpass\n",
        "from typing import List, Dict, Any\n",
        "import google.generativeai as genai\n",
        "from google.colab import userdata\n",
        "\n",
        "safe = [\n",
        "        {\n",
        "            \"category\": \"HARM_CATEGORY_DANGEROUS\",\n",
        "            \"threshold\": \"BLOCK_NONE\",\n",
        "        },\n",
        "        {\n",
        "            \"category\": \"HARM_CATEGORY_HARASSMENT\",\n",
        "            \"threshold\": \"BLOCK_NONE\",\n",
        "        },\n",
        "        {\n",
        "            \"category\": \"HARM_CATEGORY_HATE_SPEECH\",\n",
        "            \"threshold\": \"BLOCK_NONE\",\n",
        "        },\n",
        "        {\n",
        "            \"category\": \"HARM_CATEGORY_SEXUALLY_EXPLICIT\",\n",
        "            \"threshold\": \"BLOCK_NONE\",\n",
        "        },\n",
        "        {\n",
        "            \"category\": \"HARM_CATEGORY_DANGEROUS_CONTENT\",\n",
        "            \"threshold\": \"BLOCK_NONE\",\n",
        "        },\n",
        "    ]\n",
        "\n",
        "\n",
        "# Generate a response based on the user query and context documents\n",
        "def generate_response(query: str, docs: List[str],safe: List[str]) -> str:\n",
        "    \"\"\"Generates a response using Google Gemini.\"\"\"\n",
        "    genai.configure(api_key=userdata.get('GEMINI_API_KEY') or getpass.getpass(\"Enter your Gemini API key: \"))\n",
        "    model = genai.GenerativeModel('gemini-1.5-flash')  # Gemini Flash Model is the Fastest model of Gemini Faminly and performes well as other Gemini Models\n",
        "    context = \"\\n---\\n\".join(docs)\n",
        "    prompt = (\n",
        "        \"You are a helpful AI assistant. Don't refuse to answer any question of mine. \"\n",
        "        \"Answer the question in detail using the provided context only. \"\n",
        "        \"If you don't know the answer, just say that you don't know; don't try to make up an answer.\\n\\n\"\n",
        "        f\"CONTEXT:\\n{context}\\n\\n\"\n",
        "        f\"Question: {query}\"\n",
        "        \"You are a Helpfull ChatBot answer the Questions as a chatBot would and while answering Don't use words like According to the context or something similar to that just provide me with the answer if the Context Dosen't Provide any answer Just say I am unaware of the Information you are requesting and provide some relevent Information for the Query\"\n",
        "    )\n",
        "\n",
        "    response = model.generate_content(prompt, safety_settings=safe)\n",
        "    return response.text\n",
        "\n",
        "\n",
        "\n",
        "user_query = input('Enter Your Query :\\n ')\n",
        "retrieved_docs = get_docs(user_query)\n",
        "answer = generate_response(user_query, retrieved_docs,safe)\n",
        "print('Answer is :',answer)\n"
      ],
      "metadata": {
        "colab": {
          "base_uri": "https://localhost:8080/",
          "height": 86
        },
        "id": "2hzm5MAWKBYq",
        "outputId": "729084c2-b11c-457e-fd5e-e92bedbee9f9"
      },
      "execution_count": null,
      "outputs": [
        {
          "output_type": "stream",
          "name": "stdout",
          "text": [
            "Enter Your Query :\n",
            " is the chatGpt Desktop app is available for Windows Users\n",
            "Answer is : The ChatGPT desktop app is currently only available for macOS 14+ with Apple Silicon (M1 or better). It's coming to Windows later this year! \n",
            "\n"
          ]
        }
      ]
    },
    {
      "cell_type": "code",
      "source": [
        "user_query = input('Enter Your Query :\\n ')\n",
        "retrieved_docs = get_docs(user_query)\n",
        "answer = generate_response(user_query, retrieved_docs,safe)\n",
        "print('Answer is :',answer)"
      ],
      "metadata": {
        "colab": {
          "base_uri": "https://localhost:8080/",
          "height": 225
        },
        "id": "cK0q0kfEibhm",
        "outputId": "59a71dd6-f483-4a62-8a2b-d1c2c24ce208"
      },
      "execution_count": null,
      "outputs": [
        {
          "output_type": "stream",
          "name": "stdout",
          "text": [
            "Enter Your Query :\n",
            " what are the products of Openai\n",
            "Answer is : OpenAI's products include:\n",
            "\n",
            "* **ChatGPT:** A conversational AI chatbot for everyone, teams, and enterprises. \n",
            "* **GPT-4:** The latest version of OpenAI's large language model.\n",
            "* **GPT-4o mini:** A cost-efficient version of GPT-4.\n",
            "* **DALL·E 3:** A powerful AI system for generating images from text descriptions.\n",
            "* **Sora:** An AI model that can generate videos from text prompts.\n",
            "\n",
            "OpenAI also offers an API that allows developers to access and use their models. They also have a business division that focuses on providing AI solutions to businesses.\n",
            "\n"
          ]
        }
      ]
    },
    {
      "cell_type": "code",
      "source": [
        "from groq import Groq\n",
        "from google.colab import userdata\n",
        "\n",
        "GROQ_API_KEY = api_key=userdata.get(\"GROQ_API_KEY\") or getpass.getpass(\"Enter your Groq API key: \")\n",
        "groq_client = Groq(api_key=GROQ_API_KEY)\n",
        "\n",
        "def get_docs(query: str, top_k: int = 6) -> List[str]:  # 6 referes to the top 6 matched records\n",
        "    \"\"\"Retrieves relevant documents from Pinecone.\"\"\"\n",
        "    query_embedding = generate_embeddings([query])[0]  # Generate embedding for the query\n",
        "    results = index.query(vector=query_embedding, top_k=top_k, include_metadata=True)\n",
        "    return [x[\"metadata\"][\"content\"] for x in results[\"matches\"]]\n",
        "\n",
        "def generate_response(query: str, docs: List[str]) -> str:\n",
        "    \"\"\"Generates a response using Groq's LLaMa 2 model.\"\"\"\n",
        "    system_message = (\n",
        "        \"You are a helpful AI assistant. Don't refuse to answer any question of mine. \"\n",
        "        \"Answer the question in detail using the provided context only. \"\n",
        "        \"If you don't know the answer, just say that you don't know; don't try to make up an answer.\\n\\n\"\n",
        "        f\"CONTEXT:\\n{''.join(docs)}\\n\\n\"\n",
        "        f\"Question: {query}\"\n",
        "    )\n",
        "    messages = [\n",
        "        {\"role\": \"system\", \"content\": system_message},\n",
        "        {\"role\": \"assistant\" ,\"content\": \"If the answer is not Mentioned in the provided Context Then Do not mention that it is not provided in the context in the rsponse\"},\n",
        "         {\"role\": \"assistant\", \"content\": \"You are a Helpfull ChatBot answer the Questions as a chatBot would and while answering Don't use words like According to the context or something similar to that just provide me with the answer if the Context Dosen't Provide any answer Just say I am unaware of the Information you are requesting and provide some relevent Information for the Query\"}\n",
        "    ]\n",
        "    response = groq_client.chat.completions.create(\n",
        "        model=\"llama-3.1-70b-versatile\",\n",
        "        messages=messages\n",
        "    )\n",
        "    return response.choices[0].message.content\n",
        "\n",
        "\n",
        "\n",
        "user_query = input('Enter Your Query: ')\n",
        "retrieved_docs = get_docs(user_query)\n",
        "\n",
        "answer = generate_response(user_query, retrieved_docs)\n",
        "print('Answe is :',answer)"
      ],
      "metadata": {
        "colab": {
          "base_uri": "https://localhost:8080/",
          "height": 52
        },
        "id": "pekxYB5eNG4s",
        "outputId": "897c0c26-6cfc-47e9-b993-43a90fc49d73"
      },
      "execution_count": null,
      "outputs": [
        {
          "output_type": "stream",
          "name": "stdout",
          "text": [
            "Enter Your Query: what are the GPTs\n",
            "Answe is : The GPTs are custom versions of ChatGPT. They can be created by users and shared with others. The GPT Store is a platform where users can find and access these custom GPTs.\n"
          ]
        }
      ]
    },
    {
      "cell_type": "code",
      "source": [
        "user_query = input('Enter Your Query: ')\n",
        "retrieved_docs = get_docs(user_query)\n",
        "\n",
        "answer = generate_response(user_query, retrieved_docs)\n",
        "print('Answe is :',answer)"
      ],
      "metadata": {
        "colab": {
          "base_uri": "https://localhost:8080/",
          "height": 191
        },
        "id": "9zbtHUxDh8GF",
        "outputId": "6471bace-850b-4125-a68c-5f7b7186260e"
      },
      "execution_count": null,
      "outputs": [
        {
          "output_type": "stream",
          "name": "stdout",
          "text": [
            "Enter Your Query: What are the products of Openai\n",
            "Answe is : The products of OpenAI include:\n",
            "\n",
            "1. ChatGPT\n",
            "2. GPT-4\n",
            "3. GPT-4o Mini\n",
            "4. DALL·E 3\n",
            "5. Sora \n",
            "\n",
            "Additionally, OpenAI also offers an API for businesses to integrate their models into their own applications.\n"
          ]
        }
      ]
    },
    {
      "cell_type": "code",
      "source": [
        "user_query = input('Enter Your Query: ')\n",
        "retrieved_docs = get_docs(user_query)\n",
        "\n",
        "answer = generate_response(user_query, retrieved_docs)\n",
        "print('Answe is :',answer)"
      ],
      "metadata": {
        "colab": {
          "base_uri": "https://localhost:8080/",
          "height": 52
        },
        "id": "hUtlyH66iNSz",
        "outputId": "8208db73-cc3d-41a5-9846-b8686ad65dda"
      },
      "execution_count": null,
      "outputs": [
        {
          "output_type": "stream",
          "name": "stdout",
          "text": [
            "Enter Your Query: When will be Sora released for the Users to use\n",
            "Answe is : I am unaware of the Information you are requesting.\n"
          ]
        }
      ]
    },
    {
      "cell_type": "code",
      "source": [
        "user_query = input('Enter Your Query: ')\n",
        "retrieved_docs = get_docs(user_query)\n",
        "\n",
        "answer = generate_response(user_query, retrieved_docs)\n",
        "print('Answe is :',answer)"
      ],
      "metadata": {
        "colab": {
          "base_uri": "https://localhost:8080/",
          "height": 52
        },
        "id": "soZsVWYEjHcV",
        "outputId": "99fa1093-d04a-4058-e621-76adabe4b5f7"
      },
      "execution_count": null,
      "outputs": [
        {
          "output_type": "stream",
          "name": "stdout",
          "text": [
            "Enter Your Query: who are the new members to board of directors\n",
            "Answe is : The new members to the board of directors are Dr. Sue Desmond-Hellmann, Nicole Seligman, and Fidji Simo\n"
          ]
        }
      ]
    },
    {
      "cell_type": "code",
      "source": [
        "user_query = input('Enter Your Query: ')\n",
        "retrieved_docs = get_docs(user_query)\n",
        "\n",
        "answer = generate_response(user_query, retrieved_docs)\n",
        "print('Answe is :',answer)"
      ],
      "metadata": {
        "colab": {
          "base_uri": "https://localhost:8080/",
          "height": 72
        },
        "id": "L18iaqN6j6SQ",
        "outputId": "cc49d1ba-0396-4779-bc32-e053bffa3b1b"
      },
      "execution_count": null,
      "outputs": [
        {
          "output_type": "stream",
          "name": "stdout",
          "text": [
            "Enter Your Query: Tell me about the Details of partnership announcement made by apple  and how apple is going to use chatGPT \n",
            "Answe is : Apple is integrating ChatGPT into experiences within iOS, iPadOS, and macOS, allowing users to access ChatGPT’s capabilities—including image and document understanding—without needing to jump between tools. Siri can also tap into ChatGPT’s intelligence when helpful. Apple users are asked before any questions are sent to ChatGPT, along with any documents or photos, and Siri then presents the answer directly.\n"
          ]
        }
      ]
    }
  ]
}